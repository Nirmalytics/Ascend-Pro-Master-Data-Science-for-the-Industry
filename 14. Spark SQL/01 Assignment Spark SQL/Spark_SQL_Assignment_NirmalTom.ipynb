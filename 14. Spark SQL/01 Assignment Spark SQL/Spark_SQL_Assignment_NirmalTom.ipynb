{
 "cells": [
  {
   "cell_type": "markdown",
   "metadata": {
    "application/vnd.databricks.v1+cell": {
     "inputWidgets": {},
     "nuid": "96816ed7-b08a-4ca3-abb9-f99880c3535d",
     "showTitle": false,
     "title": ""
    }
   },
   "source": [
    "SQL Assignment\n",
    "\n",
    "Consider a meal delivery company which operates in multiple cities. They have various\n",
    "fulfillment centers in these cities for dispatching meal orders to their customers.\n",
    "They have the following data with them from all the fulfillment centers:\n",
    "\n",
    "● Historical data of demand for a product-center combination (Weeks: 1 to 145)\n",
    "\n",
    "● Product(Meal) features such as category, sub-category, current price and\n",
    "discount\n",
    "\n",
    "● Information for fulfillment center like center area, city information etc.\n",
    "\n",
    "\n",
    "Assignment Questions\n",
    "1. What are the distinct number of meal categories and cuisines?\n",
    "2. Which center_id has the highest num_orders?\n",
    "3. What is the top selling cuisine at the center_id that had the highest num_orders?\n",
    "4. What is the average op_area per center_type?\n",
    "5. Which center_type had the highest revenue? (Revenue is total sum of\n",
    "checkout_price*num_orders)\n",
    "6. Which is the top ordered cuisine in terms of num_orders?\n",
    "7. What are the num_orders per cuisine per week?\n",
    "8. Which center_id gave the highest number of discounts? (Discount is considered\n",
    "when checkout_price is less than base_price)"
   ]
  },
  {
   "cell_type": "code",
   "execution_count": 0,
   "metadata": {
    "application/vnd.databricks.v1+cell": {
     "inputWidgets": {},
     "nuid": "6482be4c-f067-47c9-b0ac-35c938b94601",
     "showTitle": false,
     "title": ""
    }
   },
   "outputs": [
    {
     "data": {
      "text/html": [
       "<style scoped>\n",
       "  .ansiout {\n",
       "    display: block;\n",
       "    unicode-bidi: embed;\n",
       "    white-space: pre-wrap;\n",
       "    word-wrap: break-word;\n",
       "    word-break: break-all;\n",
       "    font-family: \"Source Code Pro\", \"Menlo\", monospace;;\n",
       "    font-size: 13px;\n",
       "    color: #555;\n",
       "    margin-left: 4px;\n",
       "    line-height: 19px;\n",
       "  }\n",
       "</style>\n",
       "<div class=\"ansiout\"></div>"
      ]
     },
     "metadata": {
      "application/vnd.databricks.v1+output": {
       "addedWidgets": {},
       "arguments": {},
       "data": "<div class=\"ansiout\"></div>",
       "datasetInfos": [
        {
         "name": "df_center",
         "schema": {
          "fields": [
           {
            "metadata": {},
            "name": "center_id",
            "nullable": true,
            "type": "integer"
           },
           {
            "metadata": {},
            "name": "city_code",
            "nullable": true,
            "type": "integer"
           },
           {
            "metadata": {},
            "name": "region_code",
            "nullable": true,
            "type": "integer"
           },
           {
            "metadata": {},
            "name": "center_type",
            "nullable": true,
            "type": "string"
           },
           {
            "metadata": {},
            "name": "op_area",
            "nullable": true,
            "type": "double"
           }
          ],
          "type": "struct"
         },
         "tableIdentifier": null,
         "typeStr": "pyspark.sql.dataframe.DataFrame"
        }
       ],
       "metadata": {},
       "removedWidgets": [],
       "type": "html"
      }
     },
     "output_type": "display_data"
    }
   ],
   "source": [
    "%python\n",
    "# File location and type\n",
    "file_location_center = \"/FileStore/tables/fulfilment_center_info.csv\"\n",
    "file_type = \"csv\"\n",
    "\n",
    "# CSV options\n",
    "infer_schema = \"true\"\n",
    "first_row_is_header = \"true\"\n",
    "delimiter = \",\"\n",
    "\n",
    "# The applied options are for CSV files. For other file types, these will be ignored.\n",
    "df_center = spark.read.format(file_type) \\\n",
    "  .option(\"inferSchema\", infer_schema) \\\n",
    "  .option(\"header\", first_row_is_header) \\\n",
    "  .option(\"sep\", delimiter) \\\n",
    "  .load(file_location_center)"
   ]
  },
  {
   "cell_type": "code",
   "execution_count": 0,
   "metadata": {
    "application/vnd.databricks.v1+cell": {
     "inputWidgets": {},
     "nuid": "bd82bb99-1479-4d5c-be10-8c36df0f1d44",
     "showTitle": false,
     "title": ""
    }
   },
   "outputs": [
    {
     "data": {
      "text/html": [
       "<style scoped>\n",
       "  .ansiout {\n",
       "    display: block;\n",
       "    unicode-bidi: embed;\n",
       "    white-space: pre-wrap;\n",
       "    word-wrap: break-word;\n",
       "    word-break: break-all;\n",
       "    font-family: \"Source Code Pro\", \"Menlo\", monospace;;\n",
       "    font-size: 13px;\n",
       "    color: #555;\n",
       "    margin-left: 4px;\n",
       "    line-height: 19px;\n",
       "  }\n",
       "</style>\n",
       "<div class=\"ansiout\"></div>"
      ]
     },
     "metadata": {
      "application/vnd.databricks.v1+output": {
       "addedWidgets": {},
       "arguments": {},
       "data": "<div class=\"ansiout\"></div>",
       "datasetInfos": [],
       "metadata": {},
       "removedWidgets": [],
       "type": "html"
      }
     },
     "output_type": "display_data"
    }
   ],
   "source": [
    "%python \n",
    "\n",
    "temp_table_name = \"fulfilment_center_info_csv\"\n",
    "\n",
    "df_center.createOrReplaceTempView(temp_table_name)"
   ]
  },
  {
   "cell_type": "code",
   "execution_count": 0,
   "metadata": {
    "application/vnd.databricks.v1+cell": {
     "inputWidgets": {},
     "nuid": "b5f66379-6f7f-42ec-8e82-d0e0926a1721",
     "showTitle": false,
     "title": ""
    }
   },
   "outputs": [
    {
     "data": {
      "text/html": [
       "<style scoped>\n",
       "  .table-result-container {\n",
       "    max-height: 300px;\n",
       "    overflow: auto;\n",
       "  }\n",
       "  table, th, td {\n",
       "    border: 1px solid black;\n",
       "    border-collapse: collapse;\n",
       "  }\n",
       "  th, td {\n",
       "    padding: 5px;\n",
       "  }\n",
       "  th {\n",
       "    text-align: left;\n",
       "  }\n",
       "</style><div class='table-result-container'><table class='table-result'><thead style='background-color: white'><tr><th>center_id</th><th>city_code</th><th>region_code</th><th>center_type</th><th>op_area</th></tr></thead><tbody><tr><td>11</td><td>679</td><td>56</td><td>TYPE_A</td><td>3.7</td></tr><tr><td>13</td><td>590</td><td>56</td><td>TYPE_B</td><td>6.7</td></tr><tr><td>124</td><td>590</td><td>56</td><td>TYPE_C</td><td>4.0</td></tr><tr><td>66</td><td>648</td><td>34</td><td>TYPE_A</td><td>4.1</td></tr><tr><td>94</td><td>632</td><td>34</td><td>TYPE_C</td><td>3.6</td></tr><tr><td>64</td><td>553</td><td>77</td><td>TYPE_A</td><td>4.4</td></tr><tr><td>129</td><td>593</td><td>77</td><td>TYPE_A</td><td>3.9</td></tr><tr><td>139</td><td>693</td><td>34</td><td>TYPE_C</td><td>2.8</td></tr><tr><td>88</td><td>526</td><td>34</td><td>TYPE_A</td><td>4.1</td></tr><tr><td>143</td><td>562</td><td>77</td><td>TYPE_B</td><td>3.8</td></tr><tr><td>101</td><td>699</td><td>85</td><td>TYPE_C</td><td>2.8</td></tr><tr><td>86</td><td>699</td><td>85</td><td>TYPE_C</td><td>4.0</td></tr><tr><td>32</td><td>526</td><td>34</td><td>TYPE_A</td><td>3.8</td></tr><tr><td>149</td><td>478</td><td>77</td><td>TYPE_A</td><td>2.4</td></tr><tr><td>152</td><td>576</td><td>34</td><td>TYPE_B</td><td>4.0</td></tr><tr><td>92</td><td>526</td><td>34</td><td>TYPE_C</td><td>2.9</td></tr><tr><td>27</td><td>713</td><td>85</td><td>TYPE_A</td><td>4.5</td></tr><tr><td>14</td><td>654</td><td>56</td><td>TYPE_C</td><td>2.7</td></tr><tr><td>26</td><td>515</td><td>77</td><td>TYPE_C</td><td>3.0</td></tr><tr><td>104</td><td>647</td><td>56</td><td>TYPE_A</td><td>4.5</td></tr><tr><td>77</td><td>676</td><td>34</td><td>TYPE_A</td><td>3.8</td></tr><tr><td>23</td><td>698</td><td>23</td><td>TYPE_A</td><td>3.4</td></tr><tr><td>97</td><td>628</td><td>77</td><td>TYPE_A</td><td>4.6</td></tr><tr><td>146</td><td>526</td><td>34</td><td>TYPE_B</td><td>5.0</td></tr><tr><td>113</td><td>680</td><td>77</td><td>TYPE_C</td><td>4.0</td></tr><tr><td>145</td><td>620</td><td>77</td><td>TYPE_A</td><td>3.9</td></tr><tr><td>80</td><td>604</td><td>56</td><td>TYPE_C</td><td>5.1</td></tr><tr><td>55</td><td>647</td><td>56</td><td>TYPE_C</td><td>2.0</td></tr><tr><td>186</td><td>649</td><td>34</td><td>TYPE_A</td><td>3.4</td></tr><tr><td>99</td><td>596</td><td>71</td><td>TYPE_A</td><td>4.5</td></tr><tr><td>91</td><td>590</td><td>56</td><td>TYPE_C</td><td>0.9</td></tr><tr><td>20</td><td>522</td><td>56</td><td>TYPE_A</td><td>4.0</td></tr><tr><td>106</td><td>675</td><td>34</td><td>TYPE_A</td><td>4.0</td></tr><tr><td>81</td><td>526</td><td>34</td><td>TYPE_A</td><td>4.0</td></tr><tr><td>73</td><td>576</td><td>34</td><td>TYPE_A</td><td>4.0</td></tr><tr><td>29</td><td>526</td><td>34</td><td>TYPE_C</td><td>4.0</td></tr><tr><td>43</td><td>590</td><td>56</td><td>TYPE_A</td><td>5.1</td></tr><tr><td>102</td><td>593</td><td>77</td><td>TYPE_A</td><td>2.8</td></tr><tr><td>61</td><td>473</td><td>77</td><td>TYPE_A</td><td>4.5</td></tr><tr><td>50</td><td>556</td><td>77</td><td>TYPE_A</td><td>4.8</td></tr><tr><td>83</td><td>659</td><td>77</td><td>TYPE_A</td><td>5.3</td></tr><tr><td>57</td><td>541</td><td>77</td><td>TYPE_C</td><td>2.8</td></tr><tr><td>126</td><td>577</td><td>56</td><td>TYPE_A</td><td>2.7</td></tr><tr><td>177</td><td>683</td><td>56</td><td>TYPE_A</td><td>3.4</td></tr><tr><td>67</td><td>638</td><td>56</td><td>TYPE_B</td><td>7.0</td></tr><tr><td>174</td><td>700</td><td>56</td><td>TYPE_A</td><td>7.0</td></tr><tr><td>59</td><td>456</td><td>56</td><td>TYPE_A</td><td>4.2</td></tr><tr><td>58</td><td>695</td><td>77</td><td>TYPE_C</td><td>3.8</td></tr><tr><td>65</td><td>602</td><td>34</td><td>TYPE_A</td><td>4.8</td></tr><tr><td>39</td><td>526</td><td>34</td><td>TYPE_C</td><td>3.8</td></tr><tr><td>132</td><td>522</td><td>56</td><td>TYPE_A</td><td>3.9</td></tr><tr><td>89</td><td>703</td><td>56</td><td>TYPE_A</td><td>4.8</td></tr><tr><td>162</td><td>526</td><td>34</td><td>TYPE_C</td><td>2.0</td></tr><tr><td>75</td><td>651</td><td>77</td><td>TYPE_B</td><td>4.7</td></tr><tr><td>72</td><td>638</td><td>56</td><td>TYPE_C</td><td>3.9</td></tr><tr><td>41</td><td>590</td><td>56</td><td>TYPE_C</td><td>1.9</td></tr><tr><td>10</td><td>590</td><td>56</td><td>TYPE_B</td><td>6.3</td></tr><tr><td>110</td><td>485</td><td>77</td><td>TYPE_A</td><td>3.8</td></tr><tr><td>52</td><td>685</td><td>56</td><td>TYPE_B</td><td>5.6</td></tr><tr><td>93</td><td>461</td><td>34</td><td>TYPE_A</td><td>3.9</td></tr><tr><td>74</td><td>702</td><td>35</td><td>TYPE_A</td><td>2.8</td></tr><tr><td>34</td><td>615</td><td>34</td><td>TYPE_B</td><td>4.2</td></tr><tr><td>137</td><td>590</td><td>56</td><td>TYPE_A</td><td>4.4</td></tr><tr><td>153</td><td>590</td><td>56</td><td>TYPE_A</td><td>3.9</td></tr><tr><td>24</td><td>614</td><td>85</td><td>TYPE_B</td><td>3.6</td></tr><tr><td>109</td><td>599</td><td>56</td><td>TYPE_A</td><td>3.6</td></tr><tr><td>108</td><td>579</td><td>56</td><td>TYPE_B</td><td>4.4</td></tr><tr><td>36</td><td>517</td><td>56</td><td>TYPE_B</td><td>4.4</td></tr><tr><td>157</td><td>609</td><td>93</td><td>TYPE_A</td><td>4.1</td></tr><tr><td>17</td><td>517</td><td>56</td><td>TYPE_A</td><td>3.2</td></tr><tr><td>161</td><td>658</td><td>34</td><td>TYPE_B</td><td>3.9</td></tr><tr><td>42</td><td>561</td><td>77</td><td>TYPE_B</td><td>3.9</td></tr><tr><td>53</td><td>590</td><td>56</td><td>TYPE_A</td><td>3.8</td></tr><tr><td>30</td><td>604</td><td>56</td><td>TYPE_A</td><td>3.5</td></tr><tr><td>76</td><td>614</td><td>85</td><td>TYPE_A</td><td>3.0</td></tr><tr><td>68</td><td>676</td><td>34</td><td>TYPE_B</td><td>4.1</td></tr><tr><td>51</td><td>638</td><td>56</td><td>TYPE_A</td><td>7.0</td></tr></tbody></table></div>"
      ]
     },
     "metadata": {
      "application/vnd.databricks.v1+output": {
       "addedWidgets": {},
       "aggData": [],
       "aggError": "",
       "aggOverflow": false,
       "aggSchema": [],
       "aggSeriesLimitReached": false,
       "aggType": "",
       "arguments": {},
       "columnCustomDisplayInfos": {},
       "data": [
        [
         11,
         679,
         56,
         "TYPE_A",
         3.7
        ],
        [
         13,
         590,
         56,
         "TYPE_B",
         6.7
        ],
        [
         124,
         590,
         56,
         "TYPE_C",
         4
        ],
        [
         66,
         648,
         34,
         "TYPE_A",
         4.1
        ],
        [
         94,
         632,
         34,
         "TYPE_C",
         3.6
        ],
        [
         64,
         553,
         77,
         "TYPE_A",
         4.4
        ],
        [
         129,
         593,
         77,
         "TYPE_A",
         3.9
        ],
        [
         139,
         693,
         34,
         "TYPE_C",
         2.8
        ],
        [
         88,
         526,
         34,
         "TYPE_A",
         4.1
        ],
        [
         143,
         562,
         77,
         "TYPE_B",
         3.8
        ],
        [
         101,
         699,
         85,
         "TYPE_C",
         2.8
        ],
        [
         86,
         699,
         85,
         "TYPE_C",
         4
        ],
        [
         32,
         526,
         34,
         "TYPE_A",
         3.8
        ],
        [
         149,
         478,
         77,
         "TYPE_A",
         2.4
        ],
        [
         152,
         576,
         34,
         "TYPE_B",
         4
        ],
        [
         92,
         526,
         34,
         "TYPE_C",
         2.9
        ],
        [
         27,
         713,
         85,
         "TYPE_A",
         4.5
        ],
        [
         14,
         654,
         56,
         "TYPE_C",
         2.7
        ],
        [
         26,
         515,
         77,
         "TYPE_C",
         3
        ],
        [
         104,
         647,
         56,
         "TYPE_A",
         4.5
        ],
        [
         77,
         676,
         34,
         "TYPE_A",
         3.8
        ],
        [
         23,
         698,
         23,
         "TYPE_A",
         3.4
        ],
        [
         97,
         628,
         77,
         "TYPE_A",
         4.6
        ],
        [
         146,
         526,
         34,
         "TYPE_B",
         5
        ],
        [
         113,
         680,
         77,
         "TYPE_C",
         4
        ],
        [
         145,
         620,
         77,
         "TYPE_A",
         3.9
        ],
        [
         80,
         604,
         56,
         "TYPE_C",
         5.1
        ],
        [
         55,
         647,
         56,
         "TYPE_C",
         2
        ],
        [
         186,
         649,
         34,
         "TYPE_A",
         3.4
        ],
        [
         99,
         596,
         71,
         "TYPE_A",
         4.5
        ],
        [
         91,
         590,
         56,
         "TYPE_C",
         0.9
        ],
        [
         20,
         522,
         56,
         "TYPE_A",
         4
        ],
        [
         106,
         675,
         34,
         "TYPE_A",
         4
        ],
        [
         81,
         526,
         34,
         "TYPE_A",
         4
        ],
        [
         73,
         576,
         34,
         "TYPE_A",
         4
        ],
        [
         29,
         526,
         34,
         "TYPE_C",
         4
        ],
        [
         43,
         590,
         56,
         "TYPE_A",
         5.1
        ],
        [
         102,
         593,
         77,
         "TYPE_A",
         2.8
        ],
        [
         61,
         473,
         77,
         "TYPE_A",
         4.5
        ],
        [
         50,
         556,
         77,
         "TYPE_A",
         4.8
        ],
        [
         83,
         659,
         77,
         "TYPE_A",
         5.3
        ],
        [
         57,
         541,
         77,
         "TYPE_C",
         2.8
        ],
        [
         126,
         577,
         56,
         "TYPE_A",
         2.7
        ],
        [
         177,
         683,
         56,
         "TYPE_A",
         3.4
        ],
        [
         67,
         638,
         56,
         "TYPE_B",
         7
        ],
        [
         174,
         700,
         56,
         "TYPE_A",
         7
        ],
        [
         59,
         456,
         56,
         "TYPE_A",
         4.2
        ],
        [
         58,
         695,
         77,
         "TYPE_C",
         3.8
        ],
        [
         65,
         602,
         34,
         "TYPE_A",
         4.8
        ],
        [
         39,
         526,
         34,
         "TYPE_C",
         3.8
        ],
        [
         132,
         522,
         56,
         "TYPE_A",
         3.9
        ],
        [
         89,
         703,
         56,
         "TYPE_A",
         4.8
        ],
        [
         162,
         526,
         34,
         "TYPE_C",
         2
        ],
        [
         75,
         651,
         77,
         "TYPE_B",
         4.7
        ],
        [
         72,
         638,
         56,
         "TYPE_C",
         3.9
        ],
        [
         41,
         590,
         56,
         "TYPE_C",
         1.9
        ],
        [
         10,
         590,
         56,
         "TYPE_B",
         6.3
        ],
        [
         110,
         485,
         77,
         "TYPE_A",
         3.8
        ],
        [
         52,
         685,
         56,
         "TYPE_B",
         5.6
        ],
        [
         93,
         461,
         34,
         "TYPE_A",
         3.9
        ],
        [
         74,
         702,
         35,
         "TYPE_A",
         2.8
        ],
        [
         34,
         615,
         34,
         "TYPE_B",
         4.2
        ],
        [
         137,
         590,
         56,
         "TYPE_A",
         4.4
        ],
        [
         153,
         590,
         56,
         "TYPE_A",
         3.9
        ],
        [
         24,
         614,
         85,
         "TYPE_B",
         3.6
        ],
        [
         109,
         599,
         56,
         "TYPE_A",
         3.6
        ],
        [
         108,
         579,
         56,
         "TYPE_B",
         4.4
        ],
        [
         36,
         517,
         56,
         "TYPE_B",
         4.4
        ],
        [
         157,
         609,
         93,
         "TYPE_A",
         4.1
        ],
        [
         17,
         517,
         56,
         "TYPE_A",
         3.2
        ],
        [
         161,
         658,
         34,
         "TYPE_B",
         3.9
        ],
        [
         42,
         561,
         77,
         "TYPE_B",
         3.9
        ],
        [
         53,
         590,
         56,
         "TYPE_A",
         3.8
        ],
        [
         30,
         604,
         56,
         "TYPE_A",
         3.5
        ],
        [
         76,
         614,
         85,
         "TYPE_A",
         3
        ],
        [
         68,
         676,
         34,
         "TYPE_B",
         4.1
        ],
        [
         51,
         638,
         56,
         "TYPE_A",
         7
        ]
       ],
       "datasetInfos": [],
       "dbfsResultPath": null,
       "isJsonSchema": true,
       "metadata": {},
       "overflow": false,
       "plotOptions": {
        "customPlotOptions": {},
        "displayType": "table",
        "pivotAggregation": null,
        "pivotColumns": null,
        "xColumns": null,
        "yColumns": null
       },
       "removedWidgets": [],
       "schema": [
        {
         "metadata": "{}",
         "name": "center_id",
         "type": "\"integer\""
        },
        {
         "metadata": "{}",
         "name": "city_code",
         "type": "\"integer\""
        },
        {
         "metadata": "{}",
         "name": "region_code",
         "type": "\"integer\""
        },
        {
         "metadata": "{}",
         "name": "center_type",
         "type": "\"string\""
        },
        {
         "metadata": "{}",
         "name": "op_area",
         "type": "\"double\""
        }
       ],
       "type": "table"
      }
     },
     "output_type": "display_data"
    }
   ],
   "source": [
    "%sql\n",
    "\n",
    "select * from `fulfilment_center_info_csv`"
   ]
  },
  {
   "cell_type": "code",
   "execution_count": 0,
   "metadata": {
    "application/vnd.databricks.v1+cell": {
     "inputWidgets": {},
     "nuid": "6ebb0f9e-dc3d-4f2a-bbe3-a156561bf575",
     "showTitle": false,
     "title": ""
    }
   },
   "outputs": [
    {
     "data": {
      "text/html": [
       "<style scoped>\n",
       "  .ansiout {\n",
       "    display: block;\n",
       "    unicode-bidi: embed;\n",
       "    white-space: pre-wrap;\n",
       "    word-wrap: break-word;\n",
       "    word-break: break-all;\n",
       "    font-family: \"Source Code Pro\", \"Menlo\", monospace;;\n",
       "    font-size: 13px;\n",
       "    color: #555;\n",
       "    margin-left: 4px;\n",
       "    line-height: 19px;\n",
       "  }\n",
       "</style>\n",
       "<div class=\"ansiout\"></div>"
      ]
     },
     "metadata": {
      "application/vnd.databricks.v1+output": {
       "addedWidgets": {},
       "arguments": {},
       "data": "<div class=\"ansiout\"></div>",
       "datasetInfos": [
        {
         "name": "df_meal_info",
         "schema": {
          "fields": [
           {
            "metadata": {},
            "name": "meal_id",
            "nullable": true,
            "type": "integer"
           },
           {
            "metadata": {},
            "name": "category",
            "nullable": true,
            "type": "string"
           },
           {
            "metadata": {},
            "name": "cuisine",
            "nullable": true,
            "type": "string"
           }
          ],
          "type": "struct"
         },
         "tableIdentifier": null,
         "typeStr": "pyspark.sql.dataframe.DataFrame"
        }
       ],
       "metadata": {},
       "removedWidgets": [],
       "type": "html"
      }
     },
     "output_type": "display_data"
    }
   ],
   "source": [
    "%python\n",
    "# File location and type\n",
    "file_location_meal_info = \"/FileStore/tables/meal_info.csv\" \n",
    "file_type = \"csv\"\n",
    "\n",
    "# CSV options\n",
    "infer_schema = \"true\"\n",
    "first_row_is_header = \"true\"\n",
    "delimiter = \",\"\n",
    "\n",
    "# The applied options are for CSV files. For other file types, these will be ignored.\n",
    "df_meal_info = spark.read.format(file_type) \\\n",
    "  .option(\"inferSchema\", infer_schema) \\\n",
    "  .option(\"header\", first_row_is_header) \\\n",
    "  .option(\"sep\", delimiter) \\\n",
    "  .load(file_location_meal_info)\n"
   ]
  },
  {
   "cell_type": "code",
   "execution_count": 0,
   "metadata": {
    "application/vnd.databricks.v1+cell": {
     "inputWidgets": {},
     "nuid": "425903f7-cfd4-4c7b-b469-8b605060cfa1",
     "showTitle": false,
     "title": ""
    }
   },
   "outputs": [
    {
     "data": {
      "text/html": [
       "<style scoped>\n",
       "  .ansiout {\n",
       "    display: block;\n",
       "    unicode-bidi: embed;\n",
       "    white-space: pre-wrap;\n",
       "    word-wrap: break-word;\n",
       "    word-break: break-all;\n",
       "    font-family: \"Source Code Pro\", \"Menlo\", monospace;;\n",
       "    font-size: 13px;\n",
       "    color: #555;\n",
       "    margin-left: 4px;\n",
       "    line-height: 19px;\n",
       "  }\n",
       "</style>\n",
       "<div class=\"ansiout\"></div>"
      ]
     },
     "metadata": {
      "application/vnd.databricks.v1+output": {
       "addedWidgets": {},
       "arguments": {},
       "data": "<div class=\"ansiout\"></div>",
       "datasetInfos": [],
       "metadata": {},
       "removedWidgets": [],
       "type": "html"
      }
     },
     "output_type": "display_data"
    }
   ],
   "source": [
    "%python\n",
    "# Create a view or table\n",
    "\n",
    "temp_table_name = \"meal_info_csv\"\n",
    "\n",
    "df_meal_info.createOrReplaceTempView(temp_table_name)"
   ]
  },
  {
   "cell_type": "code",
   "execution_count": 0,
   "metadata": {
    "application/vnd.databricks.v1+cell": {
     "inputWidgets": {},
     "nuid": "95ea5bba-7738-4ea0-8b74-0eb75403e3ac",
     "showTitle": false,
     "title": ""
    }
   },
   "outputs": [
    {
     "data": {
      "text/html": [
       "<style scoped>\n",
       "  .table-result-container {\n",
       "    max-height: 300px;\n",
       "    overflow: auto;\n",
       "  }\n",
       "  table, th, td {\n",
       "    border: 1px solid black;\n",
       "    border-collapse: collapse;\n",
       "  }\n",
       "  th, td {\n",
       "    padding: 5px;\n",
       "  }\n",
       "  th {\n",
       "    text-align: left;\n",
       "  }\n",
       "</style><div class='table-result-container'><table class='table-result'><thead style='background-color: white'><tr><th>meal_id</th><th>category</th><th>cuisine</th></tr></thead><tbody><tr><td>1885</td><td>Beverages</td><td>Thai</td></tr><tr><td>1993</td><td>Beverages</td><td>Thai</td></tr><tr><td>2539</td><td>Beverages</td><td>Thai</td></tr><tr><td>1248</td><td>Beverages</td><td>Indian</td></tr><tr><td>2631</td><td>Beverages</td><td>Indian</td></tr><tr><td>1311</td><td>Extras</td><td>Thai</td></tr><tr><td>1062</td><td>Beverages</td><td>Italian</td></tr><tr><td>1778</td><td>Beverages</td><td>Italian</td></tr><tr><td>1803</td><td>Extras</td><td>Thai</td></tr><tr><td>1198</td><td>Extras</td><td>Thai</td></tr><tr><td>2707</td><td>Beverages</td><td>Italian</td></tr><tr><td>1847</td><td>Soup</td><td>Thai</td></tr><tr><td>1438</td><td>Soup</td><td>Thai</td></tr><tr><td>2494</td><td>Soup</td><td>Thai</td></tr><tr><td>2760</td><td>Other Snacks</td><td>Thai</td></tr><tr><td>2490</td><td>Salad</td><td>Italian</td></tr><tr><td>1109</td><td>Rice Bowl</td><td>Indian</td></tr><tr><td>2290</td><td>Rice Bowl</td><td>Indian</td></tr><tr><td>1525</td><td>Other Snacks</td><td>Thai</td></tr><tr><td>2704</td><td>Other Snacks</td><td>Thai</td></tr><tr><td>1878</td><td>Starters</td><td>Thai</td></tr><tr><td>2640</td><td>Starters</td><td>Thai</td></tr><tr><td>2577</td><td>Starters</td><td>Thai</td></tr><tr><td>1754</td><td>Sandwich</td><td>Italian</td></tr><tr><td>1971</td><td>Sandwich</td><td>Italian</td></tr><tr><td>2306</td><td>Pasta</td><td>Italian</td></tr><tr><td>2139</td><td>Beverages</td><td>Indian</td></tr><tr><td>2826</td><td>Sandwich</td><td>Italian</td></tr><tr><td>2664</td><td>Salad</td><td>Italian</td></tr><tr><td>2569</td><td>Salad</td><td>Italian</td></tr><tr><td>1230</td><td>Beverages</td><td>Continental</td></tr><tr><td>1207</td><td>Beverages</td><td>Continental</td></tr><tr><td>2322</td><td>Beverages</td><td>Continental</td></tr><tr><td>2492</td><td>Desert</td><td>Indian</td></tr><tr><td>1216</td><td>Pasta</td><td>Italian</td></tr><tr><td>1727</td><td>Rice Bowl</td><td>Indian</td></tr><tr><td>1902</td><td>Biryani</td><td>Indian</td></tr><tr><td>1247</td><td>Biryani</td><td>Indian</td></tr><tr><td>2304</td><td>Desert</td><td>Indian</td></tr><tr><td>1543</td><td>Desert</td><td>Indian</td></tr><tr><td>1770</td><td>Biryani</td><td>Indian</td></tr><tr><td>2126</td><td>Pasta</td><td>Italian</td></tr><tr><td>1558</td><td>Pizza</td><td>Continental</td></tr><tr><td>2581</td><td>Pizza</td><td>Continental</td></tr><tr><td>1962</td><td>Pizza</td><td>Continental</td></tr><tr><td>1571</td><td>Fish</td><td>Continental</td></tr><tr><td>2956</td><td>Fish</td><td>Continental</td></tr><tr><td>2104</td><td>Fish</td><td>Continental</td></tr><tr><td>2444</td><td>Seafood</td><td>Continental</td></tr><tr><td>2867</td><td>Seafood</td><td>Continental</td></tr><tr><td>1445</td><td>Seafood</td><td>Continental</td></tr></tbody></table></div>"
      ]
     },
     "metadata": {
      "application/vnd.databricks.v1+output": {
       "addedWidgets": {},
       "aggData": [],
       "aggError": "",
       "aggOverflow": false,
       "aggSchema": [],
       "aggSeriesLimitReached": false,
       "aggType": "",
       "arguments": {},
       "columnCustomDisplayInfos": {},
       "data": [
        [
         1885,
         "Beverages",
         "Thai"
        ],
        [
         1993,
         "Beverages",
         "Thai"
        ],
        [
         2539,
         "Beverages",
         "Thai"
        ],
        [
         1248,
         "Beverages",
         "Indian"
        ],
        [
         2631,
         "Beverages",
         "Indian"
        ],
        [
         1311,
         "Extras",
         "Thai"
        ],
        [
         1062,
         "Beverages",
         "Italian"
        ],
        [
         1778,
         "Beverages",
         "Italian"
        ],
        [
         1803,
         "Extras",
         "Thai"
        ],
        [
         1198,
         "Extras",
         "Thai"
        ],
        [
         2707,
         "Beverages",
         "Italian"
        ],
        [
         1847,
         "Soup",
         "Thai"
        ],
        [
         1438,
         "Soup",
         "Thai"
        ],
        [
         2494,
         "Soup",
         "Thai"
        ],
        [
         2760,
         "Other Snacks",
         "Thai"
        ],
        [
         2490,
         "Salad",
         "Italian"
        ],
        [
         1109,
         "Rice Bowl",
         "Indian"
        ],
        [
         2290,
         "Rice Bowl",
         "Indian"
        ],
        [
         1525,
         "Other Snacks",
         "Thai"
        ],
        [
         2704,
         "Other Snacks",
         "Thai"
        ],
        [
         1878,
         "Starters",
         "Thai"
        ],
        [
         2640,
         "Starters",
         "Thai"
        ],
        [
         2577,
         "Starters",
         "Thai"
        ],
        [
         1754,
         "Sandwich",
         "Italian"
        ],
        [
         1971,
         "Sandwich",
         "Italian"
        ],
        [
         2306,
         "Pasta",
         "Italian"
        ],
        [
         2139,
         "Beverages",
         "Indian"
        ],
        [
         2826,
         "Sandwich",
         "Italian"
        ],
        [
         2664,
         "Salad",
         "Italian"
        ],
        [
         2569,
         "Salad",
         "Italian"
        ],
        [
         1230,
         "Beverages",
         "Continental"
        ],
        [
         1207,
         "Beverages",
         "Continental"
        ],
        [
         2322,
         "Beverages",
         "Continental"
        ],
        [
         2492,
         "Desert",
         "Indian"
        ],
        [
         1216,
         "Pasta",
         "Italian"
        ],
        [
         1727,
         "Rice Bowl",
         "Indian"
        ],
        [
         1902,
         "Biryani",
         "Indian"
        ],
        [
         1247,
         "Biryani",
         "Indian"
        ],
        [
         2304,
         "Desert",
         "Indian"
        ],
        [
         1543,
         "Desert",
         "Indian"
        ],
        [
         1770,
         "Biryani",
         "Indian"
        ],
        [
         2126,
         "Pasta",
         "Italian"
        ],
        [
         1558,
         "Pizza",
         "Continental"
        ],
        [
         2581,
         "Pizza",
         "Continental"
        ],
        [
         1962,
         "Pizza",
         "Continental"
        ],
        [
         1571,
         "Fish",
         "Continental"
        ],
        [
         2956,
         "Fish",
         "Continental"
        ],
        [
         2104,
         "Fish",
         "Continental"
        ],
        [
         2444,
         "Seafood",
         "Continental"
        ],
        [
         2867,
         "Seafood",
         "Continental"
        ],
        [
         1445,
         "Seafood",
         "Continental"
        ]
       ],
       "datasetInfos": [],
       "dbfsResultPath": null,
       "isJsonSchema": true,
       "metadata": {},
       "overflow": false,
       "plotOptions": {
        "customPlotOptions": {},
        "displayType": "table",
        "pivotAggregation": null,
        "pivotColumns": null,
        "xColumns": null,
        "yColumns": null
       },
       "removedWidgets": [],
       "schema": [
        {
         "metadata": "{}",
         "name": "meal_id",
         "type": "\"integer\""
        },
        {
         "metadata": "{}",
         "name": "category",
         "type": "\"string\""
        },
        {
         "metadata": "{}",
         "name": "cuisine",
         "type": "\"string\""
        }
       ],
       "type": "table"
      }
     },
     "output_type": "display_data"
    }
   ],
   "source": [
    "%sql\n",
    "\n",
    "/* Query the created temp table in a SQL cell */\n",
    "\n",
    "select * from `meal_info_csv`"
   ]
  },
  {
   "cell_type": "code",
   "execution_count": 0,
   "metadata": {
    "application/vnd.databricks.v1+cell": {
     "inputWidgets": {},
     "nuid": "adaafeb5-39bc-4bed-a85e-7f00057645f9",
     "showTitle": false,
     "title": ""
    }
   },
   "outputs": [
    {
     "data": {
      "text/html": [
       "<style scoped>\n",
       "  .ansiout {\n",
       "    display: block;\n",
       "    unicode-bidi: embed;\n",
       "    white-space: pre-wrap;\n",
       "    word-wrap: break-word;\n",
       "    word-break: break-all;\n",
       "    font-family: \"Source Code Pro\", \"Menlo\", monospace;;\n",
       "    font-size: 13px;\n",
       "    color: #555;\n",
       "    margin-left: 4px;\n",
       "    line-height: 19px;\n",
       "  }\n",
       "</style>\n",
       "<div class=\"ansiout\"></div>"
      ]
     },
     "metadata": {
      "application/vnd.databricks.v1+output": {
       "addedWidgets": {},
       "arguments": {},
       "data": "<div class=\"ansiout\"></div>",
       "datasetInfos": [
        {
         "name": "df_train",
         "schema": {
          "fields": [
           {
            "metadata": {},
            "name": "id",
            "nullable": true,
            "type": "integer"
           },
           {
            "metadata": {},
            "name": "week",
            "nullable": true,
            "type": "integer"
           },
           {
            "metadata": {},
            "name": "center_id",
            "nullable": true,
            "type": "integer"
           },
           {
            "metadata": {},
            "name": "meal_id",
            "nullable": true,
            "type": "integer"
           },
           {
            "metadata": {},
            "name": "checkout_price",
            "nullable": true,
            "type": "double"
           },
           {
            "metadata": {},
            "name": "base_price",
            "nullable": true,
            "type": "double"
           },
           {
            "metadata": {},
            "name": "emailer_for_promotion",
            "nullable": true,
            "type": "integer"
           },
           {
            "metadata": {},
            "name": "homepage_featured",
            "nullable": true,
            "type": "integer"
           },
           {
            "metadata": {},
            "name": "num_orders",
            "nullable": true,
            "type": "integer"
           }
          ],
          "type": "struct"
         },
         "tableIdentifier": null,
         "typeStr": "pyspark.sql.dataframe.DataFrame"
        }
       ],
       "metadata": {},
       "removedWidgets": [],
       "type": "html"
      }
     },
     "output_type": "display_data"
    }
   ],
   "source": [
    "%python\n",
    "# File location and type\n",
    "file_location_train = \"/FileStore/tables/train.csv\" \n",
    "file_type = \"csv\"\n",
    "\n",
    "# CSV options\n",
    "infer_schema = \"true\"\n",
    "first_row_is_header = \"true\"\n",
    "delimiter = \",\"\n",
    "\n",
    "# The applied options are for CSV files. For other file types, these will be ignored.\n",
    "df_train = spark.read.format(file_type) \\\n",
    "  .option(\"inferSchema\", infer_schema) \\\n",
    "  .option(\"header\", first_row_is_header) \\\n",
    "  .option(\"sep\", delimiter) \\\n",
    "  .load(file_location_train)\n"
   ]
  },
  {
   "cell_type": "code",
   "execution_count": 0,
   "metadata": {
    "application/vnd.databricks.v1+cell": {
     "inputWidgets": {},
     "nuid": "09c7c8df-193d-4d1e-b8f5-2ab5120ec653",
     "showTitle": false,
     "title": ""
    }
   },
   "outputs": [
    {
     "data": {
      "text/html": [
       "<style scoped>\n",
       "  .ansiout {\n",
       "    display: block;\n",
       "    unicode-bidi: embed;\n",
       "    white-space: pre-wrap;\n",
       "    word-wrap: break-word;\n",
       "    word-break: break-all;\n",
       "    font-family: \"Source Code Pro\", \"Menlo\", monospace;;\n",
       "    font-size: 13px;\n",
       "    color: #555;\n",
       "    margin-left: 4px;\n",
       "    line-height: 19px;\n",
       "  }\n",
       "</style>\n",
       "<div class=\"ansiout\"></div>"
      ]
     },
     "metadata": {
      "application/vnd.databricks.v1+output": {
       "addedWidgets": {},
       "arguments": {},
       "data": "<div class=\"ansiout\"></div>",
       "datasetInfos": [],
       "metadata": {},
       "removedWidgets": [],
       "type": "html"
      }
     },
     "output_type": "display_data"
    }
   ],
   "source": [
    "%python\n",
    "# Create a view or table\n",
    "\n",
    "temp_table_name = \"train_csv\"\n",
    "\n",
    "df_train.createOrReplaceTempView(temp_table_name)"
   ]
  },
  {
   "cell_type": "code",
   "execution_count": 0,
   "metadata": {
    "application/vnd.databricks.v1+cell": {
     "inputWidgets": {},
     "nuid": "0d91d927-7ecd-4f06-b165-df6bf00ca306",
     "showTitle": false,
     "title": ""
    }
   },
   "outputs": [
    {
     "data": {
      "text/html": [
       "<style scoped>\n",
       "  .ansiout {\n",
       "    display: block;\n",
       "    unicode-bidi: embed;\n",
       "    white-space: pre-wrap;\n",
       "    word-wrap: break-word;\n",
       "    word-break: break-all;\n",
       "    font-family: \"Source Code Pro\", \"Menlo\", monospace;;\n",
       "    font-size: 13px;\n",
       "    color: #555;\n",
       "    margin-left: 4px;\n",
       "    line-height: 19px;\n",
       "  }\n",
       "</style>\n",
       "<div class=\"ansiout\">+-------+----+---------+-------+--------------+----------+---------------------+-----------------+----------+\n",
       "     id|week|center_id|meal_id|checkout_price|base_price|emailer_for_promotion|homepage_featured|num_orders|\n",
       "+-------+----+---------+-------+--------------+----------+---------------------+-----------------+----------+\n",
       "1379560|   1|       55|   1885|        136.83|    152.29|                    0|                0|       177|\n",
       "1466964|   1|       55|   1993|        136.83|    135.83|                    0|                0|       270|\n",
       "1346989|   1|       55|   2539|        134.86|    135.86|                    0|                0|       189|\n",
       "1338232|   1|       55|   2139|         339.5|    437.53|                    0|                0|        54|\n",
       "1448490|   1|       55|   2631|         243.5|     242.5|                    0|                0|        40|\n",
       "1270037|   1|       55|   1248|        251.23|    252.23|                    0|                0|        28|\n",
       "1191377|   1|       55|   1778|        183.36|    184.36|                    0|                0|       190|\n",
       "1499955|   1|       55|   1062|        182.36|    183.36|                    0|                0|       391|\n",
       "1025244|   1|       55|   2707|        193.06|    192.06|                    0|                0|       472|\n",
       "1054194|   1|       55|   1207|        325.92|    384.18|                    0|                1|       676|\n",
       "1469367|   1|       55|   1230|        323.01|     390.0|                    0|                1|       823|\n",
       "1029333|   1|       55|   2322|        322.07|     388.0|                    0|                1|       972|\n",
       "1446016|   1|       55|   2290|        311.43|    310.43|                    0|                0|       162|\n",
       "1244647|   1|       55|   1727|        445.23|    446.23|                    0|                0|       420|\n",
       "1378227|   1|       55|   1109|        264.84|    297.79|                    1|                0|       756|\n",
       "1181556|   1|       55|   2640|        282.33|    281.33|                    0|                0|       108|\n",
       "1313873|   1|       55|   2306|         243.5|    340.53|                    0|                0|        28|\n",
       "1067069|   1|       55|   2126|         486.0|     485.0|                    0|                0|        28|\n",
       "1058482|   1|       55|   2826|        306.58|    305.58|                    0|                0|       188|\n",
       "1240935|   1|       55|   1754|        289.12|    289.12|                    0|                0|       485|\n",
       "+-------+----+---------+-------+--------------+----------+---------------------+-----------------+----------+\n",
       "only showing top 20 rows\n",
       "\n",
       "</div>"
      ]
     },
     "metadata": {
      "application/vnd.databricks.v1+output": {
       "addedWidgets": {},
       "arguments": {},
       "data": "<div class=\"ansiout\">+-------+----+---------+-------+--------------+----------+---------------------+-----------------+----------+\n|     id|week|center_id|meal_id|checkout_price|base_price|emailer_for_promotion|homepage_featured|num_orders|\n+-------+----+---------+-------+--------------+----------+---------------------+-----------------+----------+\n|1379560|   1|       55|   1885|        136.83|    152.29|                    0|                0|       177|\n|1466964|   1|       55|   1993|        136.83|    135.83|                    0|                0|       270|\n|1346989|   1|       55|   2539|        134.86|    135.86|                    0|                0|       189|\n|1338232|   1|       55|   2139|         339.5|    437.53|                    0|                0|        54|\n|1448490|   1|       55|   2631|         243.5|     242.5|                    0|                0|        40|\n|1270037|   1|       55|   1248|        251.23|    252.23|                    0|                0|        28|\n|1191377|   1|       55|   1778|        183.36|    184.36|                    0|                0|       190|\n|1499955|   1|       55|   1062|        182.36|    183.36|                    0|                0|       391|\n|1025244|   1|       55|   2707|        193.06|    192.06|                    0|                0|       472|\n|1054194|   1|       55|   1207|        325.92|    384.18|                    0|                1|       676|\n|1469367|   1|       55|   1230|        323.01|     390.0|                    0|                1|       823|\n|1029333|   1|       55|   2322|        322.07|     388.0|                    0|                1|       972|\n|1446016|   1|       55|   2290|        311.43|    310.43|                    0|                0|       162|\n|1244647|   1|       55|   1727|        445.23|    446.23|                    0|                0|       420|\n|1378227|   1|       55|   1109|        264.84|    297.79|                    1|                0|       756|\n|1181556|   1|       55|   2640|        282.33|    281.33|                    0|                0|       108|\n|1313873|   1|       55|   2306|         243.5|    340.53|                    0|                0|        28|\n|1067069|   1|       55|   2126|         486.0|     485.0|                    0|                0|        28|\n|1058482|   1|       55|   2826|        306.58|    305.58|                    0|                0|       188|\n|1240935|   1|       55|   1754|        289.12|    289.12|                    0|                0|       485|\n+-------+----+---------+-------+--------------+----------+---------------------+-----------------+----------+\nonly showing top 20 rows\n\n</div>",
       "datasetInfos": [],
       "metadata": {},
       "removedWidgets": [],
       "type": "html"
      }
     },
     "output_type": "display_data"
    }
   ],
   "source": [
    "%python\n",
    "\n",
    "spark.sql(\"\"\" select * from `train_csv` \"\"\").show()"
   ]
  },
  {
   "cell_type": "markdown",
   "metadata": {
    "application/vnd.databricks.v1+cell": {
     "inputWidgets": {},
     "nuid": "c1c033b9-db66-4b00-a49d-891411f0608a",
     "showTitle": false,
     "title": ""
    }
   },
   "source": [
    "Joining all 3 tables into 1 using Nested Join"
   ]
  },
  {
   "cell_type": "code",
   "execution_count": 0,
   "metadata": {
    "application/vnd.databricks.v1+cell": {
     "inputWidgets": {},
     "nuid": "03754be9-8c78-4c0c-8062-3e259cee61b0",
     "showTitle": false,
     "title": ""
    }
   },
   "outputs": [
    {
     "data": {
      "text/html": [
       "<style scoped>\n",
       "  .ansiout {\n",
       "    display: block;\n",
       "    unicode-bidi: embed;\n",
       "    white-space: pre-wrap;\n",
       "    word-wrap: break-word;\n",
       "    word-break: break-all;\n",
       "    font-family: \"Source Code Pro\", \"Menlo\", monospace;;\n",
       "    font-size: 13px;\n",
       "    color: #555;\n",
       "    margin-left: 4px;\n",
       "    line-height: 19px;\n",
       "  }\n",
       "</style>\n",
       "<div class=\"ansiout\">Out[8]: [&#39;center_id&#39;,\n",
       " &#39;meal_id&#39;,\n",
       " &#39;id&#39;,\n",
       " &#39;week&#39;,\n",
       " &#39;checkout_price&#39;,\n",
       " &#39;base_price&#39;,\n",
       " &#39;emailer_for_promotion&#39;,\n",
       " &#39;homepage_featured&#39;,\n",
       " &#39;num_orders&#39;,\n",
       " &#39;category&#39;,\n",
       " &#39;cuisine&#39;,\n",
       " &#39;city_code&#39;,\n",
       " &#39;region_code&#39;,\n",
       " &#39;center_type&#39;,\n",
       " &#39;op_area&#39;]</div>"
      ]
     },
     "metadata": {
      "application/vnd.databricks.v1+output": {
       "addedWidgets": {},
       "arguments": {},
       "data": "<div class=\"ansiout\">Out[8]: [&#39;center_id&#39;,\n &#39;meal_id&#39;,\n &#39;id&#39;,\n &#39;week&#39;,\n &#39;checkout_price&#39;,\n &#39;base_price&#39;,\n &#39;emailer_for_promotion&#39;,\n &#39;homepage_featured&#39;,\n &#39;num_orders&#39;,\n &#39;category&#39;,\n &#39;cuisine&#39;,\n &#39;city_code&#39;,\n &#39;region_code&#39;,\n &#39;center_type&#39;,\n &#39;op_area&#39;]</div>",
       "datasetInfos": [
        {
         "name": "df_temp",
         "schema": {
          "fields": [
           {
            "metadata": {},
            "name": "meal_id",
            "nullable": true,
            "type": "integer"
           },
           {
            "metadata": {},
            "name": "id",
            "nullable": true,
            "type": "integer"
           },
           {
            "metadata": {},
            "name": "week",
            "nullable": true,
            "type": "integer"
           },
           {
            "metadata": {},
            "name": "center_id",
            "nullable": true,
            "type": "integer"
           },
           {
            "metadata": {},
            "name": "checkout_price",
            "nullable": true,
            "type": "double"
           },
           {
            "metadata": {},
            "name": "base_price",
            "nullable": true,
            "type": "double"
           },
           {
            "metadata": {},
            "name": "emailer_for_promotion",
            "nullable": true,
            "type": "integer"
           },
           {
            "metadata": {},
            "name": "homepage_featured",
            "nullable": true,
            "type": "integer"
           },
           {
            "metadata": {},
            "name": "num_orders",
            "nullable": true,
            "type": "integer"
           },
           {
            "metadata": {},
            "name": "category",
            "nullable": true,
            "type": "string"
           },
           {
            "metadata": {},
            "name": "cuisine",
            "nullable": true,
            "type": "string"
           }
          ],
          "type": "struct"
         },
         "tableIdentifier": null,
         "typeStr": "pyspark.sql.dataframe.DataFrame"
        },
        {
         "name": "df_join",
         "schema": {
          "fields": [
           {
            "metadata": {},
            "name": "center_id",
            "nullable": true,
            "type": "integer"
           },
           {
            "metadata": {},
            "name": "meal_id",
            "nullable": true,
            "type": "integer"
           },
           {
            "metadata": {},
            "name": "id",
            "nullable": true,
            "type": "integer"
           },
           {
            "metadata": {},
            "name": "week",
            "nullable": true,
            "type": "integer"
           },
           {
            "metadata": {},
            "name": "checkout_price",
            "nullable": true,
            "type": "double"
           },
           {
            "metadata": {},
            "name": "base_price",
            "nullable": true,
            "type": "double"
           },
           {
            "metadata": {},
            "name": "emailer_for_promotion",
            "nullable": true,
            "type": "integer"
           },
           {
            "metadata": {},
            "name": "homepage_featured",
            "nullable": true,
            "type": "integer"
           },
           {
            "metadata": {},
            "name": "num_orders",
            "nullable": true,
            "type": "integer"
           },
           {
            "metadata": {},
            "name": "category",
            "nullable": true,
            "type": "string"
           },
           {
            "metadata": {},
            "name": "cuisine",
            "nullable": true,
            "type": "string"
           },
           {
            "metadata": {},
            "name": "city_code",
            "nullable": true,
            "type": "integer"
           },
           {
            "metadata": {},
            "name": "region_code",
            "nullable": true,
            "type": "integer"
           },
           {
            "metadata": {},
            "name": "center_type",
            "nullable": true,
            "type": "string"
           },
           {
            "metadata": {},
            "name": "op_area",
            "nullable": true,
            "type": "double"
           }
          ],
          "type": "struct"
         },
         "tableIdentifier": null,
         "typeStr": "pyspark.sql.dataframe.DataFrame"
        }
       ],
       "metadata": {},
       "removedWidgets": [],
       "type": "html"
      }
     },
     "output_type": "display_data"
    }
   ],
   "source": [
    "%python\n",
    "\n",
    "df_temp = df_train.join(df_meal_info, on=['meal_id'], how='inner')\n",
    "df_join = df_temp.join(df_center, on=['center_id'], how='inner')\n",
    "df_join.columns"
   ]
  },
  {
   "cell_type": "code",
   "execution_count": 0,
   "metadata": {
    "application/vnd.databricks.v1+cell": {
     "inputWidgets": {},
     "nuid": "ca5c8688-4e2b-41a2-8fb7-7a05ff8824e1",
     "showTitle": false,
     "title": ""
    }
   },
   "outputs": [
    {
     "data": {
      "text/html": [
       "<style scoped>\n",
       "  .ansiout {\n",
       "    display: block;\n",
       "    unicode-bidi: embed;\n",
       "    white-space: pre-wrap;\n",
       "    word-wrap: break-word;\n",
       "    word-break: break-all;\n",
       "    font-family: \"Source Code Pro\", \"Menlo\", monospace;;\n",
       "    font-size: 13px;\n",
       "    color: #555;\n",
       "    margin-left: 4px;\n",
       "    line-height: 19px;\n",
       "  }\n",
       "</style>\n",
       "<div class=\"ansiout\"></div>"
      ]
     },
     "metadata": {
      "application/vnd.databricks.v1+output": {
       "addedWidgets": {},
       "arguments": {},
       "data": "<div class=\"ansiout\"></div>",
       "datasetInfos": [],
       "metadata": {},
       "removedWidgets": [],
       "type": "html"
      }
     },
     "output_type": "display_data"
    }
   ],
   "source": [
    "%python\n",
    "# Create a view or table\n",
    "\n",
    "temp_table_name = \"jointable\"\n",
    "\n",
    "df_join.createOrReplaceTempView(temp_table_name)"
   ]
  },
  {
   "cell_type": "code",
   "execution_count": 0,
   "metadata": {
    "application/vnd.databricks.v1+cell": {
     "inputWidgets": {},
     "nuid": "d5862ff3-a030-4096-a805-8b85d596960f",
     "showTitle": false,
     "title": ""
    }
   },
   "outputs": [
    {
     "data": {
      "text/html": [
       "<style scoped>\n",
       "  .ansiout {\n",
       "    display: block;\n",
       "    unicode-bidi: embed;\n",
       "    white-space: pre-wrap;\n",
       "    word-wrap: break-word;\n",
       "    word-break: break-all;\n",
       "    font-family: \"Source Code Pro\", \"Menlo\", monospace;;\n",
       "    font-size: 13px;\n",
       "    color: #555;\n",
       "    margin-left: 4px;\n",
       "    line-height: 19px;\n",
       "  }\n",
       "</style>\n",
       "<div class=\"ansiout\">+---------+-------+-------+----+--------------+----------+---------------------+-----------------+----------+---------+-----------+---------+-----------+-----------+-------+\n",
       "center_id|meal_id|     id|week|checkout_price|base_price|emailer_for_promotion|homepage_featured|num_orders| category|    cuisine|city_code|region_code|center_type|op_area|\n",
       "+---------+-------+-------+----+--------------+----------+---------------------+-----------------+----------+---------+-----------+---------+-----------+-----------+-------+\n",
       "       55|   1885|1379560|   1|        136.83|    152.29|                    0|                0|       177|Beverages|       Thai|      647|         56|     TYPE_C|    2.0|\n",
       "       55|   1993|1466964|   1|        136.83|    135.83|                    0|                0|       270|Beverages|       Thai|      647|         56|     TYPE_C|    2.0|\n",
       "       55|   2539|1346989|   1|        134.86|    135.86|                    0|                0|       189|Beverages|       Thai|      647|         56|     TYPE_C|    2.0|\n",
       "       55|   2139|1338232|   1|         339.5|    437.53|                    0|                0|        54|Beverages|     Indian|      647|         56|     TYPE_C|    2.0|\n",
       "       55|   2631|1448490|   1|         243.5|     242.5|                    0|                0|        40|Beverages|     Indian|      647|         56|     TYPE_C|    2.0|\n",
       "       55|   1248|1270037|   1|        251.23|    252.23|                    0|                0|        28|Beverages|     Indian|      647|         56|     TYPE_C|    2.0|\n",
       "       55|   1778|1191377|   1|        183.36|    184.36|                    0|                0|       190|Beverages|    Italian|      647|         56|     TYPE_C|    2.0|\n",
       "       55|   1062|1499955|   1|        182.36|    183.36|                    0|                0|       391|Beverages|    Italian|      647|         56|     TYPE_C|    2.0|\n",
       "       55|   2707|1025244|   1|        193.06|    192.06|                    0|                0|       472|Beverages|    Italian|      647|         56|     TYPE_C|    2.0|\n",
       "       55|   1207|1054194|   1|        325.92|    384.18|                    0|                1|       676|Beverages|Continental|      647|         56|     TYPE_C|    2.0|\n",
       "       55|   1230|1469367|   1|        323.01|     390.0|                    0|                1|       823|Beverages|Continental|      647|         56|     TYPE_C|    2.0|\n",
       "       55|   2322|1029333|   1|        322.07|     388.0|                    0|                1|       972|Beverages|Continental|      647|         56|     TYPE_C|    2.0|\n",
       "       55|   2290|1446016|   1|        311.43|    310.43|                    0|                0|       162|Rice Bowl|     Indian|      647|         56|     TYPE_C|    2.0|\n",
       "       55|   1727|1244647|   1|        445.23|    446.23|                    0|                0|       420|Rice Bowl|     Indian|      647|         56|     TYPE_C|    2.0|\n",
       "       55|   1109|1378227|   1|        264.84|    297.79|                    1|                0|       756|Rice Bowl|     Indian|      647|         56|     TYPE_C|    2.0|\n",
       "       55|   2640|1181556|   1|        282.33|    281.33|                    0|                0|       108| Starters|       Thai|      647|         56|     TYPE_C|    2.0|\n",
       "       55|   2306|1313873|   1|         243.5|    340.53|                    0|                0|        28|    Pasta|    Italian|      647|         56|     TYPE_C|    2.0|\n",
       "       55|   2126|1067069|   1|         486.0|     485.0|                    0|                0|        28|    Pasta|    Italian|      647|         56|     TYPE_C|    2.0|\n",
       "       55|   2826|1058482|   1|        306.58|    305.58|                    0|                0|       188| Sandwich|    Italian|      647|         56|     TYPE_C|    2.0|\n",
       "       55|   1754|1240935|   1|        289.12|    289.12|                    0|                0|       485| Sandwich|    Italian|      647|         56|     TYPE_C|    2.0|\n",
       "+---------+-------+-------+----+--------------+----------+---------------------+-----------------+----------+---------+-----------+---------+-----------+-----------+-------+\n",
       "only showing top 20 rows\n",
       "\n",
       "</div>"
      ]
     },
     "metadata": {
      "application/vnd.databricks.v1+output": {
       "addedWidgets": {},
       "arguments": {},
       "data": "<div class=\"ansiout\">+---------+-------+-------+----+--------------+----------+---------------------+-----------------+----------+---------+-----------+---------+-----------+-----------+-------+\n|center_id|meal_id|     id|week|checkout_price|base_price|emailer_for_promotion|homepage_featured|num_orders| category|    cuisine|city_code|region_code|center_type|op_area|\n+---------+-------+-------+----+--------------+----------+---------------------+-----------------+----------+---------+-----------+---------+-----------+-----------+-------+\n|       55|   1885|1379560|   1|        136.83|    152.29|                    0|                0|       177|Beverages|       Thai|      647|         56|     TYPE_C|    2.0|\n|       55|   1993|1466964|   1|        136.83|    135.83|                    0|                0|       270|Beverages|       Thai|      647|         56|     TYPE_C|    2.0|\n|       55|   2539|1346989|   1|        134.86|    135.86|                    0|                0|       189|Beverages|       Thai|      647|         56|     TYPE_C|    2.0|\n|       55|   2139|1338232|   1|         339.5|    437.53|                    0|                0|        54|Beverages|     Indian|      647|         56|     TYPE_C|    2.0|\n|       55|   2631|1448490|   1|         243.5|     242.5|                    0|                0|        40|Beverages|     Indian|      647|         56|     TYPE_C|    2.0|\n|       55|   1248|1270037|   1|        251.23|    252.23|                    0|                0|        28|Beverages|     Indian|      647|         56|     TYPE_C|    2.0|\n|       55|   1778|1191377|   1|        183.36|    184.36|                    0|                0|       190|Beverages|    Italian|      647|         56|     TYPE_C|    2.0|\n|       55|   1062|1499955|   1|        182.36|    183.36|                    0|                0|       391|Beverages|    Italian|      647|         56|     TYPE_C|    2.0|\n|       55|   2707|1025244|   1|        193.06|    192.06|                    0|                0|       472|Beverages|    Italian|      647|         56|     TYPE_C|    2.0|\n|       55|   1207|1054194|   1|        325.92|    384.18|                    0|                1|       676|Beverages|Continental|      647|         56|     TYPE_C|    2.0|\n|       55|   1230|1469367|   1|        323.01|     390.0|                    0|                1|       823|Beverages|Continental|      647|         56|     TYPE_C|    2.0|\n|       55|   2322|1029333|   1|        322.07|     388.0|                    0|                1|       972|Beverages|Continental|      647|         56|     TYPE_C|    2.0|\n|       55|   2290|1446016|   1|        311.43|    310.43|                    0|                0|       162|Rice Bowl|     Indian|      647|         56|     TYPE_C|    2.0|\n|       55|   1727|1244647|   1|        445.23|    446.23|                    0|                0|       420|Rice Bowl|     Indian|      647|         56|     TYPE_C|    2.0|\n|       55|   1109|1378227|   1|        264.84|    297.79|                    1|                0|       756|Rice Bowl|     Indian|      647|         56|     TYPE_C|    2.0|\n|       55|   2640|1181556|   1|        282.33|    281.33|                    0|                0|       108| Starters|       Thai|      647|         56|     TYPE_C|    2.0|\n|       55|   2306|1313873|   1|         243.5|    340.53|                    0|                0|        28|    Pasta|    Italian|      647|         56|     TYPE_C|    2.0|\n|       55|   2126|1067069|   1|         486.0|     485.0|                    0|                0|        28|    Pasta|    Italian|      647|         56|     TYPE_C|    2.0|\n|       55|   2826|1058482|   1|        306.58|    305.58|                    0|                0|       188| Sandwich|    Italian|      647|         56|     TYPE_C|    2.0|\n|       55|   1754|1240935|   1|        289.12|    289.12|                    0|                0|       485| Sandwich|    Italian|      647|         56|     TYPE_C|    2.0|\n+---------+-------+-------+----+--------------+----------+---------------------+-----------------+----------+---------+-----------+---------+-----------+-----------+-------+\nonly showing top 20 rows\n\n</div>",
       "datasetInfos": [],
       "metadata": {},
       "removedWidgets": [],
       "type": "html"
      }
     },
     "output_type": "display_data"
    }
   ],
   "source": [
    "%python\n",
    "df_join.show()"
   ]
  },
  {
   "cell_type": "markdown",
   "metadata": {},
   "source": [
    "-----------"
   ]
  },
  {
   "cell_type": "markdown",
   "metadata": {
    "application/vnd.databricks.v1+cell": {
     "inputWidgets": {},
     "nuid": "8d25f3f6-3e0f-4eeb-80d4-1c94391a0ceb",
     "showTitle": false,
     "title": ""
    }
   },
   "source": [
    "Assignment Questions\n",
    "\n",
    "Q1. What are the distinct number of meal categories and cuisines?"
   ]
  },
  {
   "cell_type": "code",
   "execution_count": 0,
   "metadata": {
    "application/vnd.databricks.v1+cell": {
     "inputWidgets": {},
     "nuid": "6c908a3b-833e-412b-bd96-ce79c8063d87",
     "showTitle": false,
     "title": ""
    }
   },
   "outputs": [
    {
     "data": {
      "text/html": [
       "<style scoped>\n",
       "  .ansiout {\n",
       "    display: block;\n",
       "    unicode-bidi: embed;\n",
       "    white-space: pre-wrap;\n",
       "    word-wrap: break-word;\n",
       "    word-break: break-all;\n",
       "    font-family: \"Source Code Pro\", \"Menlo\", monospace;;\n",
       "    font-size: 13px;\n",
       "    color: #555;\n",
       "    margin-left: 4px;\n",
       "    line-height: 19px;\n",
       "  }\n",
       "</style>\n",
       "<div class=\"ansiout\">+------------------------------+-----------------------+\n",
       "Count_distinct_meal_categories|Count_distinct_cuisines|\n",
       "+------------------------------+-----------------------+\n",
       "                            14|                      4|\n",
       "+------------------------------+-----------------------+\n",
       "\n",
       "</div>"
      ]
     },
     "metadata": {
      "application/vnd.databricks.v1+output": {
       "addedWidgets": {},
       "arguments": {},
       "data": "<div class=\"ansiout\">+------------------------------+-----------------------+\n|Count_distinct_meal_categories|Count_distinct_cuisines|\n+------------------------------+-----------------------+\n|                            14|                      4|\n+------------------------------+-----------------------+\n\n</div>",
       "datasetInfos": [],
       "metadata": {},
       "removedWidgets": [],
       "type": "html"
      }
     },
     "output_type": "display_data"
    }
   ],
   "source": [
    "%python\n",
    "\n",
    "spark.sql(\"\"\"\n",
    "\n",
    "select COUNT(DISTINCT category) as Count_distinct_meal_categories, COUNT(DISTINCT cuisine) as Count_distinct_cuisines\n",
    "from jointable\n",
    "\n",
    "\"\"\").show()\n"
   ]
  },
  {
   "cell_type": "markdown",
   "metadata": {
    "application/vnd.databricks.v1+cell": {
     "inputWidgets": {},
     "nuid": "49f13a77-2cb1-4c2e-a38c-4b873acc2038",
     "showTitle": false,
     "title": ""
    }
   },
   "source": [
    "distinct_meal_categories = 14\n",
    "\n",
    "distinct_cuisines = 4"
   ]
  },
  {
   "cell_type": "markdown",
   "metadata": {},
   "source": [
    "----"
   ]
  },
  {
   "cell_type": "markdown",
   "metadata": {
    "application/vnd.databricks.v1+cell": {
     "inputWidgets": {},
     "nuid": "ae4828f0-8cb7-4a85-80e1-1ca1e8831be6",
     "showTitle": false,
     "title": ""
    }
   },
   "source": [
    "Q2. Which center_id has the highest num_orders?"
   ]
  },
  {
   "cell_type": "code",
   "execution_count": 0,
   "metadata": {
    "application/vnd.databricks.v1+cell": {
     "inputWidgets": {},
     "nuid": "f4e6f0e2-1868-4a72-bc75-49229b9803ed",
     "showTitle": false,
     "title": ""
    }
   },
   "outputs": [
    {
     "data": {
      "text/html": [
       "<style scoped>\n",
       "  .ansiout {\n",
       "    display: block;\n",
       "    unicode-bidi: embed;\n",
       "    white-space: pre-wrap;\n",
       "    word-wrap: break-word;\n",
       "    word-break: break-all;\n",
       "    font-family: \"Source Code Pro\", \"Menlo\", monospace;;\n",
       "    font-size: 13px;\n",
       "    color: #555;\n",
       "    margin-left: 4px;\n",
       "    line-height: 19px;\n",
       "  }\n",
       "</style>\n",
       "<div class=\"ansiout\">+---------+---------+\n",
       "center_id|Sum_order|\n",
       "+---------+---------+\n",
       "       13|  1742220|\n",
       "+---------+---------+\n",
       "\n",
       "</div>"
      ]
     },
     "metadata": {
      "application/vnd.databricks.v1+output": {
       "addedWidgets": {},
       "arguments": {},
       "data": "<div class=\"ansiout\">+---------+---------+\n|center_id|Sum_order|\n+---------+---------+\n|       13|  1742220|\n+---------+---------+\n\n</div>",
       "datasetInfos": [],
       "metadata": {},
       "removedWidgets": [],
       "type": "html"
      }
     },
     "output_type": "display_data"
    }
   ],
   "source": [
    "\n",
    "%python\n",
    "\n",
    "spark.sql(\"\"\"\n",
    "\n",
    "SELECT center_id, SUM (num_orders) as Sum_order\n",
    "FROM `jointable`\n",
    "GROUP BY center_id\n",
    "order by Sum_order desc \n",
    "limit 1\n",
    "\n",
    "\"\"\").show()"
   ]
  },
  {
   "cell_type": "markdown",
   "metadata": {
    "application/vnd.databricks.v1+cell": {
     "inputWidgets": {},
     "nuid": "b355c44c-97f6-40f3-a949-25a8d1a448ab",
     "showTitle": false,
     "title": ""
    }
   },
   "source": [
    "center_id 13 has the highest num_orders."
   ]
  },
  {
   "cell_type": "markdown",
   "metadata": {},
   "source": [
    "----"
   ]
  },
  {
   "cell_type": "markdown",
   "metadata": {
    "application/vnd.databricks.v1+cell": {
     "inputWidgets": {},
     "nuid": "7d947072-c5d0-4305-9eff-a539a0e69b5e",
     "showTitle": false,
     "title": ""
    }
   },
   "source": [
    "Q3. What is the top selling cuisine at the center_id that had the highest num_orders?"
   ]
  },
  {
   "cell_type": "code",
   "execution_count": 0,
   "metadata": {
    "application/vnd.databricks.v1+cell": {
     "inputWidgets": {},
     "nuid": "d3e0f2b4-af28-40e1-990e-12b5d3427478",
     "showTitle": false,
     "title": ""
    }
   },
   "outputs": [
    {
     "data": {
      "text/html": [
       "<style scoped>\n",
       "  .ansiout {\n",
       "    display: block;\n",
       "    unicode-bidi: embed;\n",
       "    white-space: pre-wrap;\n",
       "    word-wrap: break-word;\n",
       "    word-break: break-all;\n",
       "    font-family: \"Source Code Pro\", \"Menlo\", monospace;;\n",
       "    font-size: 13px;\n",
       "    color: #555;\n",
       "    margin-left: 4px;\n",
       "    line-height: 19px;\n",
       "  }\n",
       "</style>\n",
       "<div class=\"ansiout\">+-------+------------+\n",
       "cuisine|Total_orders|\n",
       "+-------+------------+\n",
       "   Thai|      654724|\n",
       "+-------+------------+\n",
       "\n",
       "</div>"
      ]
     },
     "metadata": {
      "application/vnd.databricks.v1+output": {
       "addedWidgets": {},
       "arguments": {},
       "data": "<div class=\"ansiout\">+-------+------------+\n|cuisine|Total_orders|\n+-------+------------+\n|   Thai|      654724|\n+-------+------------+\n\n</div>",
       "datasetInfos": [],
       "metadata": {},
       "removedWidgets": [],
       "type": "html"
      }
     },
     "output_type": "display_data"
    }
   ],
   "source": [
    "\n",
    "%python\n",
    "\n",
    "spark.sql('''\n",
    "\n",
    "SELECT cuisine, sum (num_orders) as Total_orders\n",
    "FROM jointable \n",
    "WHERE center_id = (\n",
    "                    SELECT center_id\n",
    "                    FROM `jointable`\n",
    "                    GROUP BY center_id\n",
    "                    order by SUM (num_orders) desc \n",
    "                    limit 1\n",
    "                   )\n",
    "group by cuisine\n",
    "Order by Total_orders desc\n",
    "limit 1\n",
    "\n",
    "''').show()\n",
    "\n",
    "\n",
    "\n"
   ]
  },
  {
   "cell_type": "markdown",
   "metadata": {
    "application/vnd.databricks.v1+cell": {
     "inputWidgets": {},
     "nuid": "1faf72e1-f4af-41f2-8515-1c771ac3a883",
     "showTitle": false,
     "title": ""
    }
   },
   "source": [
    "top selling cuisine at the center_id that had the highest num_orders = Thai"
   ]
  },
  {
   "cell_type": "markdown",
   "metadata": {},
   "source": [
    "----"
   ]
  },
  {
   "cell_type": "markdown",
   "metadata": {
    "application/vnd.databricks.v1+cell": {
     "inputWidgets": {},
     "nuid": "6ed2facc-0d76-4f8c-a30c-05e8ead8ae61",
     "showTitle": false,
     "title": ""
    }
   },
   "source": [
    "Q4. What is the average op_area per center_type?"
   ]
  },
  {
   "cell_type": "code",
   "execution_count": 0,
   "metadata": {
    "application/vnd.databricks.v1+cell": {
     "inputWidgets": {},
     "nuid": "074be975-a8cd-4ff9-88bd-c4a98ce750b8",
     "showTitle": false,
     "title": ""
    }
   },
   "outputs": [
    {
     "data": {
      "text/html": [
       "<style scoped>\n",
       "  .ansiout {\n",
       "    display: block;\n",
       "    unicode-bidi: embed;\n",
       "    white-space: pre-wrap;\n",
       "    word-wrap: break-word;\n",
       "    word-break: break-all;\n",
       "    font-family: \"Source Code Pro\", \"Menlo\", monospace;;\n",
       "    font-size: 13px;\n",
       "    color: #555;\n",
       "    margin-left: 4px;\n",
       "    line-height: 19px;\n",
       "  }\n",
       "</style>\n",
       "<div class=\"ansiout\">+-----------+------------------+\n",
       "center_type|      avg(op_area)|\n",
       "+-----------+------------------+\n",
       "     TYPE_C|3.2724664576805202|\n",
       "     TYPE_B| 4.881073454067083|\n",
       "     TYPE_A| 4.109563092841962|\n",
       "+-----------+------------------+\n",
       "\n",
       "</div>"
      ]
     },
     "metadata": {
      "application/vnd.databricks.v1+output": {
       "addedWidgets": {},
       "arguments": {},
       "data": "<div class=\"ansiout\">+-----------+------------------+\n|center_type|      avg(op_area)|\n+-----------+------------------+\n|     TYPE_C|3.2724664576805202|\n|     TYPE_B| 4.881073454067083|\n|     TYPE_A| 4.109563092841962|\n+-----------+------------------+\n\n</div>",
       "datasetInfos": [],
       "metadata": {},
       "removedWidgets": [],
       "type": "html"
      }
     },
     "output_type": "display_data"
    }
   ],
   "source": [
    "%python\n",
    "\n",
    "spark.sql('''\n",
    "\n",
    "SELECT center_type, avg(op_area)\n",
    "FROM jointable \n",
    "group by center_type\n",
    "\n",
    "''').show()\n",
    "\n"
   ]
  },
  {
   "cell_type": "markdown",
   "metadata": {
    "application/vnd.databricks.v1+cell": {
     "inputWidgets": {},
     "nuid": "66baeac3-8741-477d-9df9-9c4441fce69e",
     "showTitle": false,
     "title": ""
    }
   },
   "source": [
    "average op_area per center_type \n",
    "\n",
    "Type_C = 3.2724664576805202\n",
    "\n",
    "TYPE_B = 4.881073454067083\n",
    "\n",
    "TYPE_A = 4.109563092841962"
   ]
  },
  {
   "cell_type": "markdown",
   "metadata": {},
   "source": [
    "----"
   ]
  },
  {
   "cell_type": "markdown",
   "metadata": {
    "application/vnd.databricks.v1+cell": {
     "inputWidgets": {},
     "nuid": "501ea342-ad06-4f3d-9a1f-dbf83811c41b",
     "showTitle": false,
     "title": ""
    }
   },
   "source": [
    "Q5. Which center_type had the highest revenue? (Revenue = total sum of checkout_price*num_orders)"
   ]
  },
  {
   "cell_type": "code",
   "execution_count": 0,
   "metadata": {
    "application/vnd.databricks.v1+cell": {
     "inputWidgets": {},
     "nuid": "865bda22-97ce-4e9f-a797-56e20d8aa45b",
     "showTitle": false,
     "title": ""
    }
   },
   "outputs": [
    {
     "data": {
      "text/html": [
       "<style scoped>\n",
       "  .ansiout {\n",
       "    display: block;\n",
       "    unicode-bidi: embed;\n",
       "    white-space: pre-wrap;\n",
       "    word-wrap: break-word;\n",
       "    word-break: break-all;\n",
       "    font-family: \"Source Code Pro\", \"Menlo\", monospace;;\n",
       "    font-size: 13px;\n",
       "    color: #555;\n",
       "    margin-left: 4px;\n",
       "    line-height: 19px;\n",
       "  }\n",
       "</style>\n",
       "<div class=\"ansiout\">+-----------+-------------------+\n",
       "center_type|            Revenue|\n",
       "+-----------+-------------------+\n",
       "     TYPE_A|7.276203201870064E9|\n",
       "+-----------+-------------------+\n",
       "\n",
       "</div>"
      ]
     },
     "metadata": {
      "application/vnd.databricks.v1+output": {
       "addedWidgets": {},
       "arguments": {},
       "data": "<div class=\"ansiout\">+-----------+-------------------+\n|center_type|            Revenue|\n+-----------+-------------------+\n|     TYPE_A|7.276203201870064E9|\n+-----------+-------------------+\n\n</div>",
       "datasetInfos": [],
       "metadata": {},
       "removedWidgets": [],
       "type": "html"
      }
     },
     "output_type": "display_data"
    }
   ],
   "source": [
    "%python\n",
    "\n",
    "spark.sql('''\n",
    "\n",
    "SELECT center_type, sum(checkout_price*num_orders) as Revenue\n",
    "FROM jointable \n",
    "group by center_type\n",
    "Order by Revenue desc\n",
    "limit 1\n",
    "\n",
    "''').show()\n",
    "\n"
   ]
  },
  {
   "cell_type": "markdown",
   "metadata": {
    "application/vnd.databricks.v1+cell": {
     "inputWidgets": {},
     "nuid": "4e8590d2-2c3a-4eb3-9808-9a253a783f6a",
     "showTitle": false,
     "title": ""
    }
   },
   "source": [
    "\n",
    "center_type that had the highest revenue =  Type_A"
   ]
  },
  {
   "cell_type": "markdown",
   "metadata": {},
   "source": [
    "----"
   ]
  },
  {
   "cell_type": "markdown",
   "metadata": {
    "application/vnd.databricks.v1+cell": {
     "inputWidgets": {},
     "nuid": "127de08c-b436-4b9a-9efa-38291a5e4d77",
     "showTitle": false,
     "title": ""
    }
   },
   "source": [
    "Q6. Which is the top ordered cuisine in terms of num_orders?"
   ]
  },
  {
   "cell_type": "code",
   "execution_count": 0,
   "metadata": {
    "application/vnd.databricks.v1+cell": {
     "inputWidgets": {},
     "nuid": "1de2ef1b-a416-4d96-a603-499e809a2a77",
     "showTitle": false,
     "title": ""
    }
   },
   "outputs": [
    {
     "data": {
      "text/html": [
       "<style scoped>\n",
       "  .ansiout {\n",
       "    display: block;\n",
       "    unicode-bidi: embed;\n",
       "    white-space: pre-wrap;\n",
       "    word-wrap: break-word;\n",
       "    word-break: break-all;\n",
       "    font-family: \"Source Code Pro\", \"Menlo\", monospace;;\n",
       "    font-size: 13px;\n",
       "    color: #555;\n",
       "    margin-left: 4px;\n",
       "    line-height: 19px;\n",
       "  }\n",
       "</style>\n",
       "<div class=\"ansiout\">+-------+-----------+\n",
       "cuisine|Total_order|\n",
       "+-------+-----------+\n",
       "Italian|   17166334|\n",
       "+-------+-----------+\n",
       "\n",
       "</div>"
      ]
     },
     "metadata": {
      "application/vnd.databricks.v1+output": {
       "addedWidgets": {},
       "arguments": {},
       "data": "<div class=\"ansiout\">+-------+-----------+\n|cuisine|Total_order|\n+-------+-----------+\n|Italian|   17166334|\n+-------+-----------+\n\n</div>",
       "datasetInfos": [],
       "metadata": {},
       "removedWidgets": [],
       "type": "html"
      }
     },
     "output_type": "display_data"
    }
   ],
   "source": [
    "%python\n",
    "\n",
    "spark.sql('''\n",
    "\n",
    "SELECT cuisine, sum(num_orders) as Total_order\n",
    "FROM jointable \n",
    "group by cuisine\n",
    "Order by Total_order desc\n",
    "limit 1\n",
    "\n",
    "''').show()\n",
    "\n"
   ]
  },
  {
   "cell_type": "markdown",
   "metadata": {
    "application/vnd.databricks.v1+cell": {
     "inputWidgets": {},
     "nuid": "286cc0b1-8140-4714-b664-09c16da41fa5",
     "showTitle": false,
     "title": ""
    }
   },
   "source": [
    "top ordered cuisine in terms of num_orders = Italian"
   ]
  },
  {
   "cell_type": "markdown",
   "metadata": {},
   "source": [
    "----"
   ]
  },
  {
   "cell_type": "markdown",
   "metadata": {
    "application/vnd.databricks.v1+cell": {
     "inputWidgets": {},
     "nuid": "ef639930-26b7-4aaf-ad8b-6b838cff4dc7",
     "showTitle": false,
     "title": ""
    }
   },
   "source": [
    "Q7. What are the num_orders per cuisine per week?"
   ]
  },
  {
   "cell_type": "code",
   "execution_count": 0,
   "metadata": {
    "application/vnd.databricks.v1+cell": {
     "inputWidgets": {},
     "nuid": "3cb8740e-8a68-4dfe-acfa-f37b75810e34",
     "showTitle": false,
     "title": ""
    }
   },
   "outputs": [
    {
     "data": {
      "text/html": [
       "<style scoped>\n",
       "  .ansiout {\n",
       "    display: block;\n",
       "    unicode-bidi: embed;\n",
       "    white-space: pre-wrap;\n",
       "    word-wrap: break-word;\n",
       "    word-break: break-all;\n",
       "    font-family: \"Source Code Pro\", \"Menlo\", monospace;;\n",
       "    font-size: 13px;\n",
       "    color: #555;\n",
       "    margin-left: 4px;\n",
       "    line-height: 19px;\n",
       "  }\n",
       "</style>\n",
       "<div class=\"ansiout\">+-----------+----+------------+\n",
       "    cuisine|week|total_orders|\n",
       "+-----------+----+------------+\n",
       "Continental|   1|      146020|\n",
       "Continental|   2|      133570|\n",
       "Continental|   3|       97977|\n",
       "Continental|   4|      118819|\n",
       "Continental|   5|      116077|\n",
       "Continental|   6|      107160|\n",
       "Continental|   7|       77051|\n",
       "Continental|   8|       43897|\n",
       "Continental|   9|      152678|\n",
       "Continental|  10|      156051|\n",
       "Continental|  11|      124520|\n",
       "Continental|  12|       95914|\n",
       "Continental|  13|      109010|\n",
       "Continental|  14|       98188|\n",
       "Continental|  15|       96401|\n",
       "Continental|  16|       90087|\n",
       "Continental|  17|      114494|\n",
       "Continental|  18|      107330|\n",
       "Continental|  19|       80208|\n",
       "Continental|  20|       87718|\n",
       "+-----------+----+------------+\n",
       "only showing top 20 rows\n",
       "\n",
       "</div>"
      ]
     },
     "metadata": {
      "application/vnd.databricks.v1+output": {
       "addedWidgets": {},
       "arguments": {},
       "data": "<div class=\"ansiout\">+-----------+----+------------+\n|    cuisine|week|total_orders|\n+-----------+----+------------+\n|Continental|   1|      146020|\n|Continental|   2|      133570|\n|Continental|   3|       97977|\n|Continental|   4|      118819|\n|Continental|   5|      116077|\n|Continental|   6|      107160|\n|Continental|   7|       77051|\n|Continental|   8|       43897|\n|Continental|   9|      152678|\n|Continental|  10|      156051|\n|Continental|  11|      124520|\n|Continental|  12|       95914|\n|Continental|  13|      109010|\n|Continental|  14|       98188|\n|Continental|  15|       96401|\n|Continental|  16|       90087|\n|Continental|  17|      114494|\n|Continental|  18|      107330|\n|Continental|  19|       80208|\n|Continental|  20|       87718|\n+-----------+----+------------+\nonly showing top 20 rows\n\n</div>",
       "datasetInfos": [],
       "metadata": {},
       "removedWidgets": [],
       "type": "html"
      }
     },
     "output_type": "display_data"
    }
   ],
   "source": [
    "\n",
    "%python\n",
    "\n",
    "spark.sql('''\n",
    "\n",
    "SELECT cuisine, week , sum (num_orders) as total_orders\n",
    "FROM jointable \n",
    "group by cuisine, week\n",
    "Order by cuisine, week\n",
    "\n",
    "''').show()\n",
    "\n"
   ]
  },
  {
   "cell_type": "markdown",
   "metadata": {},
   "source": [
    "----"
   ]
  },
  {
   "cell_type": "markdown",
   "metadata": {
    "application/vnd.databricks.v1+cell": {
     "inputWidgets": {},
     "nuid": "905d66eb-0031-450f-bd9f-c66e7a9fb969",
     "showTitle": false,
     "title": ""
    }
   },
   "source": [
    "Q8. Which center_id gave the highest number of discounts? (Discount is considered when checkout_price is less than base_price)"
   ]
  },
  {
   "cell_type": "code",
   "execution_count": 0,
   "metadata": {
    "application/vnd.databricks.v1+cell": {
     "inputWidgets": {},
     "nuid": "3edb06d4-2cf0-4518-8f26-cdb4b5e9c1d6",
     "showTitle": false,
     "title": ""
    }
   },
   "outputs": [
    {
     "data": {
      "text/html": [
       "<style scoped>\n",
       "  .ansiout {\n",
       "    display: block;\n",
       "    unicode-bidi: embed;\n",
       "    white-space: pre-wrap;\n",
       "    word-wrap: break-word;\n",
       "    word-break: break-all;\n",
       "    font-family: \"Source Code Pro\", \"Menlo\", monospace;;\n",
       "    font-size: 13px;\n",
       "    color: #555;\n",
       "    margin-left: 4px;\n",
       "    line-height: 19px;\n",
       "  }\n",
       "</style>\n",
       "<div class=\"ansiout\">+---------+------------------+\n",
       "center_id|Count_of_Discounts|\n",
       "+---------+------------------+\n",
       "       13|              1509|\n",
       "+---------+------------------+\n",
       "\n",
       "</div>"
      ]
     },
     "metadata": {
      "application/vnd.databricks.v1+output": {
       "addedWidgets": {},
       "arguments": {},
       "data": "<div class=\"ansiout\">+---------+------------------+\n|center_id|Count_of_Discounts|\n+---------+------------------+\n|       13|              1509|\n+---------+------------------+\n\n</div>",
       "datasetInfos": [],
       "metadata": {},
       "removedWidgets": [],
       "type": "html"
      }
     },
     "output_type": "display_data"
    }
   ],
   "source": [
    "\n",
    "%python\n",
    "\n",
    "spark.sql(\"\"\"\n",
    "\n",
    "SELECT  center_id, Count (CASE\n",
    "                                                                   WHEN (jointable.checkout_price < jointable.base_price)\n",
    "                                                                   THEN 1\n",
    "                                                                   ElSE NULL\n",
    "                                                                   END ) AS Count_of_Discounts\n",
    "\n",
    "FROM jointable\n",
    "group by center_id\n",
    "Order by Count_of_Discounts desc\n",
    "limit 1\n",
    "\n",
    "\"\"\").show()\n",
    "\n"
   ]
  },
  {
   "cell_type": "markdown",
   "metadata": {
    "application/vnd.databricks.v1+cell": {
     "inputWidgets": {},
     "nuid": "2f3dd415-c8c1-4d61-8cc3-e890adaf2f02",
     "showTitle": false,
     "title": ""
    }
   },
   "source": [
    "center_id 13 has the highest number of discounts."
   ]
  }
 ],
 "metadata": {
  "application/vnd.databricks.v1+notebook": {
   "dashboards": [],
   "language": "python",
   "notebookMetadata": {
    "pythonIndentUnit": 4
   },
   "notebookName": "Spark_SQL_Assignment",
   "notebookOrigID": 2425512048539007,
   "widgets": {}
  },
  "kernelspec": {
   "display_name": "Python 3",
   "language": "python",
   "name": "python3"
  },
  "language_info": {
   "codemirror_mode": {
    "name": "ipython",
    "version": 3
   },
   "file_extension": ".py",
   "mimetype": "text/x-python",
   "name": "python",
   "nbconvert_exporter": "python",
   "pygments_lexer": "ipython3",
   "version": "3.8.5"
  }
 },
 "nbformat": 4,
 "nbformat_minor": 1
}
