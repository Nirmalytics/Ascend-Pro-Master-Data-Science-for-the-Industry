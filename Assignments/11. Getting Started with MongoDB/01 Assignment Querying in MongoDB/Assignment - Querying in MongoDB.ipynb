{
 "cells": [
  {
   "cell_type": "markdown",
   "id": "systematic-boating",
   "metadata": {},
   "source": [
    "### Problem statement\n",
    "\n",
    "The data is related to a coding platform that hosts coding challenges. They have a unique business model, where they crowdsource problems from various creators(authors). These authors create the problem and release it on the client's platform. The users then select the challenges they want to solve. \n",
    "\n",
    "This dataset contains information about each coding problem. It contains information about the problem, about the author who created it and a list of users who have attempted the problem.\n",
    "\n",
    "Below are the fields that can be founf within each document in the collection -\n",
    "\n",
    "- `challenge_id` - Unique id of the challenge problem\n",
    "\n",
    "- `programming_language` - Programming language for the challenge\n",
    "\n",
    "- `total_submissions` - Total submissions by all users\n",
    "\n",
    "- `publish_date` - Publishing date for the challenge\n",
    "\n",
    "- `author` - Embedded document about the author of the challenge.\n",
    "> - `id` - Author id\n",
    "> - `gender` - Author gender\n",
    "> - `org_id` - Organisation if for author\n",
    "\n",
    "- `users` - List of users who have attempted the challenge\n",
    "\n",
    "----"
   ]
  },
  {
   "cell_type": "markdown",
   "id": "expired-current",
   "metadata": {},
   "source": [
    "### Connecting to MongoDB\n",
    "\n",
    "\n",
    "----"
   ]
  },
  {
   "cell_type": "code",
   "execution_count": 1,
   "id": "unnecessary-engineering",
   "metadata": {},
   "outputs": [],
   "source": [
    "# Importing the required libraries\n",
    "import pymongo\n",
    "import pprint as pp\n",
    "\n",
    "\n",
    "pp.sorted = lambda x, key=None: x"
   ]
  },
  {
   "cell_type": "code",
   "execution_count": 2,
   "id": "weighted-broadcasting",
   "metadata": {},
   "outputs": [],
   "source": [
    "client = pymongo.MongoClient(\"mongodb://localhost:27017/\")"
   ]
  },
  {
   "cell_type": "markdown",
   "id": "close-appreciation",
   "metadata": {},
   "source": [
    "---\n",
    "### Importing data\n",
    "\n",
    "----"
   ]
  },
  {
   "cell_type": "code",
   "execution_count": 3,
   "id": "executed-london",
   "metadata": {},
   "outputs": [],
   "source": [
    "# # Restore database\n",
    "# !mongorestore /home/avadmin/Desktop/Mongo/Content/Querying/Assignment/Data/querying_assignment"
   ]
  },
  {
   "cell_type": "code",
   "execution_count": 4,
   "id": "fleet-series",
   "metadata": {},
   "outputs": [],
   "source": [
    "db = client['querying_assignment']"
   ]
  },
  {
   "cell_type": "code",
   "execution_count": 5,
   "id": "south-device",
   "metadata": {},
   "outputs": [
    {
     "data": {
      "text/plain": [
       "['challenge']"
      ]
     },
     "execution_count": 5,
     "metadata": {},
     "output_type": "execute_result"
    }
   ],
   "source": [
    "db.list_collection_names()"
   ]
  },
  {
   "cell_type": "code",
   "execution_count": 6,
   "id": "premium-vintage",
   "metadata": {
    "scrolled": true
   },
   "outputs": [
    {
     "name": "stdout",
     "output_type": "stream",
     "text": [
      "{'_id': ObjectId('60d871905922a69299c72944'),\n",
      " 'challenge_id': 'CI23478',\n",
      " 'programming_language': 2,\n",
      " 'total_submissions': 37,\n",
      " 'publish_date': datetime.datetime(2006, 6, 5, 0, 0),\n",
      " 'author': {'id': 'AI563576', 'gender': 'M', 'org_id': 'AOI100001'},\n",
      " 'users': [32876, 88820, 97150, 97359]}\n"
     ]
    }
   ],
   "source": [
    "pp.pprint(\n",
    "    db.challenge.find_one()\n",
    ")"
   ]
  },
  {
   "cell_type": "markdown",
   "id": "crucial-pavilion",
   "metadata": {},
   "source": [
    "---\n",
    "### Assignment Questions\n",
    "\n",
    "----"
   ]
  },
  {
   "cell_type": "markdown",
   "id": "biblical-conditioning",
   "metadata": {},
   "source": [
    "### Q1. \n",
    "\n",
    "Find the number of documents in the collection"
   ]
  },
  {
   "cell_type": "code",
   "execution_count": 7,
   "id": "civic-contrast",
   "metadata": {},
   "outputs": [],
   "source": [
    "# Enter your code here"
   ]
  },
  {
   "cell_type": "markdown",
   "id": "basic-national",
   "metadata": {},
   "source": [
    "### Q2. \n",
    "\n",
    "Find the number of unique `programming_language` and `challenge_id`"
   ]
  },
  {
   "cell_type": "code",
   "execution_count": 8,
   "id": "rolled-pavilion",
   "metadata": {},
   "outputs": [],
   "source": [
    "# Enter your code here"
   ]
  },
  {
   "cell_type": "markdown",
   "id": "proud-bosnia",
   "metadata": {},
   "source": [
    "### Q3. \n",
    "\n",
    "How many documents are there where the challenge was created between `2009-01-01` and `2010-01-01`? "
   ]
  },
  {
   "cell_type": "code",
   "execution_count": 9,
   "id": "electrical-technician",
   "metadata": {},
   "outputs": [],
   "source": [
    "# Enter your code here"
   ]
  },
  {
   "cell_type": "markdown",
   "id": "artificial-pollution",
   "metadata": {},
   "source": [
    "### Q4. \n",
    "\n",
    "How many challenges have been written by author `AI563576` in either `programming_language` `1` or `3` ?\n"
   ]
  },
  {
   "cell_type": "code",
   "execution_count": 10,
   "id": "round-clinton",
   "metadata": {},
   "outputs": [],
   "source": [
    "# Enter your code here"
   ]
  },
  {
   "cell_type": "markdown",
   "id": "afraid-nigeria",
   "metadata": {},
   "source": [
    "### Q5. \n",
    "\n",
    "How many documents are there where the challenges have been created by a female author and where the author belong to either the 'AOI100013' organisation or the 'AOI100013' organisation?"
   ]
  },
  {
   "cell_type": "code",
   "execution_count": 11,
   "id": "other-chain",
   "metadata": {},
   "outputs": [],
   "source": [
    "# Enter your code here"
   ]
  },
  {
   "cell_type": "markdown",
   "id": "requested-diagnosis",
   "metadata": {},
   "source": [
    "### Q6.\n",
    "\n",
    "Find the top 5 challenges where either the challenge has been attempted by exactly 100 `users` or where the `total_submissions` is between 100 and 200, both inclusive?"
   ]
  },
  {
   "cell_type": "code",
   "execution_count": 12,
   "id": "appreciated-shore",
   "metadata": {},
   "outputs": [],
   "source": [
    "# Enter your code here"
   ]
  },
  {
   "cell_type": "markdown",
   "id": "turkish-roulette",
   "metadata": {},
   "source": [
    "### Q7. \n",
    "\n",
    "How documents are there where either the `publish_date > 2010-01-01` and `total_submissions > 100`, or the `publish_date < 2000-01-01` and `total_submissions > 1000` ?"
   ]
  },
  {
   "cell_type": "code",
   "execution_count": 13,
   "id": "functioning-panama",
   "metadata": {},
   "outputs": [],
   "source": [
    "# Enter your code here"
   ]
  },
  {
   "cell_type": "code",
   "execution_count": null,
   "id": "offensive-complement",
   "metadata": {},
   "outputs": [],
   "source": []
  }
 ],
 "metadata": {
  "kernelspec": {
   "display_name": "Python 3",
   "language": "python",
   "name": "python3"
  },
  "language_info": {
   "codemirror_mode": {
    "name": "ipython",
    "version": 3
   },
   "file_extension": ".py",
   "mimetype": "text/x-python",
   "name": "python",
   "nbconvert_exporter": "python",
   "pygments_lexer": "ipython3",
   "version": "3.7.3"
  }
 },
 "nbformat": 4,
 "nbformat_minor": 5
}
