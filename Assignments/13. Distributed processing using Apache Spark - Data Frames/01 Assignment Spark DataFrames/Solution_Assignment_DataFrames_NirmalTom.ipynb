{
 "cells": [
  {
   "cell_type": "markdown",
   "metadata": {},
   "source": [
    "---\n",
    "---\n",
    "\n",
    "<center><h1>Assignment: DataFrames</h1></center>\n",
    "\n",
    "---\n",
    "\n",
    "In the notebook, we will work with a cricket commentary data.\n",
    "\n",
    "\n",
    "---\n",
    "\n",
    "#### `Importing the required libraries`\n",
    "\n",
    "---"
   ]
  },
  {
   "cell_type": "code",
   "execution_count": 1,
   "metadata": {},
   "outputs": [],
   "source": [
    "from pyspark.context import SparkContext\n",
    "from pyspark.sql import SparkSession\n",
    "import pyspark.sql.types as tp\n",
    "from pyspark.sql import functions as F"
   ]
  },
  {
   "cell_type": "code",
   "execution_count": 2,
   "metadata": {},
   "outputs": [],
   "source": [
    "spark = SparkSession.builder.getOrCreate()"
   ]
  },
  {
   "cell_type": "code",
   "execution_count": 3,
   "metadata": {},
   "outputs": [],
   "source": [
    "sc = spark.sparkContext"
   ]
  },
  {
   "cell_type": "code",
   "execution_count": 4,
   "metadata": {},
   "outputs": [
    {
     "data": {
      "text/html": [
       "\n",
       "        <div>\n",
       "            <p><b>SparkContext</b></p>\n",
       "\n",
       "            <p><a href=\"http://g01.itversity.com:4041\">Spark UI</a></p>\n",
       "\n",
       "            <dl>\n",
       "              <dt>Version</dt>\n",
       "                <dd><code>v2.4.7</code></dd>\n",
       "              <dt>Master</dt>\n",
       "                <dd><code>yarn</code></dd>\n",
       "              <dt>AppName</dt>\n",
       "                <dd><code>pyspark-shell</code></dd>\n",
       "            </dl>\n",
       "        </div>\n",
       "        "
      ],
      "text/plain": [
       "<SparkContext master=yarn appName=pyspark-shell>"
      ]
     },
     "execution_count": 4,
     "metadata": {},
     "output_type": "execute_result"
    }
   ],
   "source": [
    "sc"
   ]
  },
  {
   "cell_type": "code",
   "execution_count": 5,
   "metadata": {},
   "outputs": [
    {
     "data": {
      "text/html": [
       "\n",
       "            <div>\n",
       "                <p><b>SparkSession - in-memory</b></p>\n",
       "                \n",
       "        <div>\n",
       "            <p><b>SparkContext</b></p>\n",
       "\n",
       "            <p><a href=\"http://g01.itversity.com:4041\">Spark UI</a></p>\n",
       "\n",
       "            <dl>\n",
       "              <dt>Version</dt>\n",
       "                <dd><code>v2.4.7</code></dd>\n",
       "              <dt>Master</dt>\n",
       "                <dd><code>yarn</code></dd>\n",
       "              <dt>AppName</dt>\n",
       "                <dd><code>pyspark-shell</code></dd>\n",
       "            </dl>\n",
       "        </div>\n",
       "        \n",
       "            </div>\n",
       "        "
      ],
      "text/plain": [
       "<pyspark.sql.session.SparkSession at 0x7fa1a88b7ac8>"
      ]
     },
     "execution_count": 5,
     "metadata": {},
     "output_type": "execute_result"
    }
   ],
   "source": [
    "spark"
   ]
  },
  {
   "cell_type": "markdown",
   "metadata": {},
   "source": [
    "---\n",
    "\n",
    "#### `Read the CSV File`\n",
    "\n",
    "---"
   ]
  },
  {
   "cell_type": "code",
   "execution_count": 6,
   "metadata": {},
   "outputs": [],
   "source": [
    "data = spark.read.csv(\"data/ind-ban-comment.csv\",inferSchema=True, header=True)"
   ]
  },
  {
   "cell_type": "code",
   "execution_count": 7,
   "metadata": {},
   "outputs": [
    {
     "name": "stdout",
     "output_type": "stream",
     "text": [
      "root\n",
      " |-- _c0: integer (nullable = true)\n",
      " |-- Batsman: integer (nullable = true)\n",
      " |-- Batsman_Name: string (nullable = true)\n",
      " |-- Bowler: integer (nullable = true)\n",
      " |-- Bowler_Name: string (nullable = true)\n",
      " |-- Commentary: string (nullable = true)\n",
      " |-- Detail: string (nullable = true)\n",
      " |-- Dismissed: double (nullable = true)\n",
      " |-- Id: integer (nullable = true)\n",
      " |-- Isball: boolean (nullable = true)\n",
      " |-- Isboundary: double (nullable = true)\n",
      " |-- Iswicket: double (nullable = true)\n",
      " |-- Over: double (nullable = true)\n",
      " |-- Runs: integer (nullable = true)\n",
      " |-- Summary: string (nullable = true)\n",
      " |-- Timestamp: timestamp (nullable = true)\n",
      " |-- ZAD: string (nullable = true)\n",
      "\n"
     ]
    }
   ],
   "source": [
    "## check the schema of the dataframe\n",
    "\n",
    "data.printSchema()"
   ]
  },
  {
   "cell_type": "code",
   "execution_count": 8,
   "metadata": {
    "scrolled": true
   },
   "outputs": [
    {
     "name": "stdout",
     "output_type": "stream",
     "text": [
      "+---+-------+-----------------+------+-----------------+--------------------+------+---------+---+------+----------+--------+----+----+-------+-------------------+-------+\n",
      "|_c0|Batsman|     Batsman_Name|Bowler|      Bowler_Name|          Commentary|Detail|Dismissed| Id|Isball|Isboundary|Iswicket|Over|Runs|Summary|          Timestamp|    ZAD|\n",
      "+---+-------+-----------------+------+-----------------+--------------------+------+---------+---+------+----------+--------+----+----+-------+-------------------+-------+\n",
      "|  0|  28994|   Mohammed Shami| 63881|Mustafizur Rahman|OUT! Bowled! 5-fe...|     W|  28994.0|346|  true|      null|     1.0|49.6|   0|   null|2019-07-02 13:18:47|   null|\n",
      "|  1|   5132|Bhuvneshwar Kumar| 63881|Mustafizur Rahman|WIDE AND RUN OUT!...|  W+wd|   5132.0|344|  true|      null|     1.0|49.6|   1|   null|2019-07-02 13:17:28|   null|\n",
      "|  2|  28994|   Mohammed Shami| 63881|Mustafizur Rahman|Back of a length ...|  null|     null|343|  true|      null|    null|49.5|   1|   null|2019-07-02 13:16:03|8,349,3|\n",
      "|  3|   5132|Bhuvneshwar Kumar| 63881|Mustafizur Rahman|Just 1 run off th...|  null|     null|342|  true|      null|    null|49.4|   1|   null|2019-07-02 13:15:17|7,279,2|\n",
      "+---+-------+-----------------+------+-----------------+--------------------+------+---------+---+------+----------+--------+----+----+-------+-------------------+-------+\n",
      "only showing top 4 rows\n",
      "\n"
     ]
    }
   ],
   "source": [
    "# VIEW THE TOP 4 ROWS OF THE DATA USING THE SHOW FUNCTION\n",
    "\n",
    "\n",
    "data.show(4)"
   ]
  },
  {
   "cell_type": "markdown",
   "metadata": {},
   "source": [
    "---\n",
    "\n",
    "#### `View only the following columns of the dataframe`\n",
    "\n",
    "    - Batsman_Name\n",
    "    - Bowler_Name\n",
    "    - Dismissed\n",
    "    - Isboundary\n",
    "    - Runs\n",
    "\n",
    "---"
   ]
  },
  {
   "cell_type": "code",
   "execution_count": 9,
   "metadata": {
    "scrolled": true
   },
   "outputs": [
    {
     "name": "stdout",
     "output_type": "stream",
     "text": [
      "+-----------------+------------------+---------+----------+----+\n",
      "|     Batsman_Name|       Bowler_Name|Dismissed|Isboundary|Runs|\n",
      "+-----------------+------------------+---------+----------+----+\n",
      "|   Mohammed Shami| Mustafizur Rahman|  28994.0|      null|   0|\n",
      "|Bhuvneshwar Kumar| Mustafizur Rahman|   5132.0|      null|   1|\n",
      "|   Mohammed Shami| Mustafizur Rahman|     null|      null|   1|\n",
      "|Bhuvneshwar Kumar| Mustafizur Rahman|     null|      null|   1|\n",
      "|         MS Dhoni| Mustafizur Rahman|   3676.0|      null|   0|\n",
      "|         MS Dhoni| Mustafizur Rahman|     null|      null|   0|\n",
      "|         MS Dhoni| Mustafizur Rahman|     null|      null|   0|\n",
      "|         MS Dhoni|Mohammad Saifuddin|     null|      null|   1|\n",
      "|         MS Dhoni|Mohammad Saifuddin|     null|       1.0|   4|\n",
      "|         MS Dhoni|Mohammad Saifuddin|     null|      null|   0|\n",
      "|         MS Dhoni|Mohammad Saifuddin|     null|      null|   0|\n",
      "|         MS Dhoni|Mohammad Saifuddin|     null|       1.0|   4|\n",
      "|         MS Dhoni|Mohammad Saifuddin|     null|      null|   2|\n",
      "|Bhuvneshwar Kumar| Mustafizur Rahman|     null|      null|   0|\n",
      "|         MS Dhoni| Mustafizur Rahman|     null|      null|   1|\n",
      "|         MS Dhoni| Mustafizur Rahman|     null|      null|   0|\n",
      "|Bhuvneshwar Kumar| Mustafizur Rahman|     null|      null|   1|\n",
      "|   Dinesh Karthik| Mustafizur Rahman|   3632.0|      null|   0|\n",
      "|         MS Dhoni| Mustafizur Rahman|     null|      null|   1|\n",
      "|         MS Dhoni|Mohammad Saifuddin|     null|      null|   1|\n",
      "+-----------------+------------------+---------+----------+----+\n",
      "only showing top 20 rows\n",
      "\n"
     ]
    }
   ],
   "source": [
    "# WRITE YOUR CODE HERE\n",
    "\n",
    "# View only selected columns\n",
    "subset_data = data.select(\"Batsman_Name\", \"Bowler_Name\", \"Dismissed\", \"Isboundary\", \"Runs\")\n",
    "\n",
    "# Display data\n",
    "subset_data.show()"
   ]
  },
  {
   "cell_type": "markdown",
   "metadata": {},
   "source": [
    "---\n",
    "\n",
    "#### Find out the number of runs scored by each batsman\n",
    "\n",
    "---"
   ]
  },
  {
   "cell_type": "code",
   "execution_count": 10,
   "metadata": {},
   "outputs": [
    {
     "name": "stdout",
     "output_type": "stream",
     "text": [
      "+------------------+----------+\n",
      "|      Batsman_Name|Total_Runs|\n",
      "+------------------+----------+\n",
      "|     Soumya Sarkar|        34|\n",
      "|  Mashrafe Mortaza|         8|\n",
      "|   Shakib Al Hasan|        68|\n",
      "|   Mushfiqur Rahim|        24|\n",
      "|Mohammad Saifuddin|        55|\n",
      "|         Liton Das|        22|\n",
      "|      Rishabh Pant|        55|\n",
      "|    Mohammed Shami|         1|\n",
      "|       Tamim Iqbal|        23|\n",
      "|     Hardik Pandya|         0|\n",
      "|          KL Rahul|        79|\n",
      "| Bhuvneshwar Kumar|         3|\n",
      "|     Rubel Hossain|         9|\n",
      "|      Rohit Sharma|       107|\n",
      "|    Dinesh Karthik|         8|\n",
      "|       Virat Kohli|        26|\n",
      "|          MS Dhoni|        35|\n",
      "|     Sabbir Rahman|        40|\n",
      "|  Mosaddek Hossain|         3|\n",
      "| Mustafizur Rahman|         0|\n",
      "+------------------+----------+\n",
      "\n"
     ]
    }
   ],
   "source": [
    "#### WRITE YOUR CODE HERE\n",
    "\n",
    "# Import functions\n",
    "from pyspark.sql.functions import sum, count\n",
    "\n",
    "# Group the data on Batsman_Name\n",
    "Batsman_group = data.groupBy(\"Batsman_Name\")\n",
    "\n",
    "# Total runs scored by each batsman\n",
    "Total_runs_Batsman = Batsman_group.agg(sum(\"Runs\").alias(\"Total_Runs\"))\n",
    "\n",
    "# Display data\n",
    "Total_runs_Batsman.show()"
   ]
  },
  {
   "cell_type": "code",
   "execution_count": 11,
   "metadata": {
    "scrolled": true
   },
   "outputs": [
    {
     "name": "stdout",
     "output_type": "stream",
     "text": [
      "+------------------+----------+\n",
      "|      Batsman_Name|Total_Runs|\n",
      "+------------------+----------+\n",
      "|      Rohit Sharma|       107|\n",
      "|          KL Rahul|        79|\n",
      "|   Shakib Al Hasan|        68|\n",
      "|      Rishabh Pant|        55|\n",
      "|Mohammad Saifuddin|        55|\n",
      "|     Sabbir Rahman|        40|\n",
      "|          MS Dhoni|        35|\n",
      "|     Soumya Sarkar|        34|\n",
      "|       Virat Kohli|        26|\n",
      "|   Mushfiqur Rahim|        24|\n",
      "|       Tamim Iqbal|        23|\n",
      "|         Liton Das|        22|\n",
      "|     Rubel Hossain|         9|\n",
      "|    Dinesh Karthik|         8|\n",
      "|  Mashrafe Mortaza|         8|\n",
      "| Bhuvneshwar Kumar|         3|\n",
      "|  Mosaddek Hossain|         3|\n",
      "|    Mohammed Shami|         1|\n",
      "|     Hardik Pandya|         0|\n",
      "| Mustafizur Rahman|         0|\n",
      "+------------------+----------+\n",
      "\n"
     ]
    }
   ],
   "source": [
    "# SHOW THE BATSMAN SCORED BY EACH RUN IN DESCENDING ORDER\n",
    "\n",
    "# Sort in descending order\n",
    "sorted_Total_runs_Batsman_DESCENDING = Total_runs_Batsman.orderBy([\"Total_Runs\"], ascending = False)\n",
    "\n",
    "# Display data\n",
    "sorted_Total_runs_Batsman_DESCENDING.show()"
   ]
  },
  {
   "cell_type": "markdown",
   "metadata": {},
   "source": [
    "---\n",
    "\n",
    "#### Which batsman scored the highest number of boundaries\n",
    "\n",
    "---"
   ]
  },
  {
   "cell_type": "code",
   "execution_count": 12,
   "metadata": {},
   "outputs": [
    {
     "name": "stdout",
     "output_type": "stream",
     "text": [
      "+------------------+-------------------+\n",
      "|      Batsman_Name|NumberOf_Boundaries|\n",
      "+------------------+-------------------+\n",
      "|      Rohit Sharma|                 12|\n",
      "|Mohammad Saifuddin|                  9|\n",
      "|          KL Rahul|                  7|\n",
      "|      Rishabh Pant|                  7|\n",
      "|   Shakib Al Hasan|                  6|\n",
      "|     Sabbir Rahman|                  5|\n",
      "|     Soumya Sarkar|                  4|\n",
      "|          MS Dhoni|                  4|\n",
      "|       Virat Kohli|                  3|\n",
      "|   Mushfiqur Rahim|                  3|\n",
      "|       Tamim Iqbal|                  3|\n",
      "|         Liton Das|                  1|\n",
      "|    Dinesh Karthik|                  1|\n",
      "|  Mashrafe Mortaza|                  1|\n",
      "|     Rubel Hossain|                  1|\n",
      "|    Mohammed Shami|                  0|\n",
      "|     Hardik Pandya|                  0|\n",
      "| Bhuvneshwar Kumar|                  0|\n",
      "|  Mosaddek Hossain|                  0|\n",
      "| Mustafizur Rahman|                  0|\n",
      "+------------------+-------------------+\n",
      "\n"
     ]
    }
   ],
   "source": [
    "## WRITE YOUR CODE HERE\n",
    "\n",
    "# Average number of visitors_with_patient\n",
    "Sum_Batsman_Boundaries = Batsman_group.agg(count(\"Isboundary\").alias(\"NumberOf_Boundaries\"))\n",
    "\n",
    "# Ordering in descending order\n",
    "Highest_Batsman_Boundaries = Sum_Batsman_Boundaries.orderBy([\"NumberOf_Boundaries\"], ascending = False)\n",
    "\n",
    "# Display data\n",
    "Highest_Batsman_Boundaries.show()"
   ]
  },
  {
   "cell_type": "markdown",
   "metadata": {},
   "source": [
    " `Answer:  Rohit Sharma scored the highest number of boundaries, 12.`"
   ]
  },
  {
   "cell_type": "markdown",
   "metadata": {},
   "source": [
    "---\n",
    "\n",
    "**Define a `udf` function that will create a new column on the basis of following condition**\n",
    "\n",
    "If the value of `Runs` is less than 2, then assign `A`, if value is between `3 to 5` then assign `B` else assign `C`\n",
    "\n",
    "\n",
    "---"
   ]
  },
  {
   "cell_type": "code",
   "execution_count": 13,
   "metadata": {},
   "outputs": [],
   "source": [
    "## WRITE YOUR CODE HERE\n",
    "\n",
    "from pyspark.sql.functions import udf\n",
    "import pyspark.sql.types as tp"
   ]
  },
  {
   "cell_type": "code",
   "execution_count": 14,
   "metadata": {},
   "outputs": [],
   "source": [
    "# Define the function to create a new column\n",
    "def Runs_Encoding(Runs):\n",
    "    \n",
    "    if Runs < 2:\n",
    "        return \"A\"\n",
    "    elif 3 <= Runs <= 5:\n",
    "        return \"B\"\n",
    "    else:\n",
    "        return \"c\""
   ]
  },
  {
   "cell_type": "code",
   "execution_count": 15,
   "metadata": {},
   "outputs": [],
   "source": [
    "# Convert to udf function\n",
    "udf_function = udf(f= Runs_Encoding, returnType= tp.StringType())"
   ]
  },
  {
   "cell_type": "code",
   "execution_count": 16,
   "metadata": {},
   "outputs": [],
   "source": [
    "# Create new column\n",
    "data_NewCol = data.withColumn(\"Runs_Encoded_Col\", udf_function(data[\"Runs\"]))"
   ]
  },
  {
   "cell_type": "code",
   "execution_count": 17,
   "metadata": {},
   "outputs": [],
   "source": [
    "# Ordering in descending order\n",
    "data_NewCol_Ordered = data_NewCol.orderBy([\"Runs\"], ascending = False)"
   ]
  },
  {
   "cell_type": "code",
   "execution_count": 18,
   "metadata": {},
   "outputs": [
    {
     "name": "stdout",
     "output_type": "stream",
     "text": [
      "+---+-------+----------------+------+------------------+--------------------+------+---------+---+------+----------+--------+----+----+--------------------+-------------------+-------+----------------+\n",
      "|_c0|Batsman|    Batsman_Name|Bowler|       Bowler_Name|          Commentary|Detail|Dismissed| Id|Isball|Isboundary|Iswicket|Over|Runs|             Summary|          Timestamp|    ZAD|Runs_Encoded_Col|\n",
      "+---+-------+----------------+------+------------------+--------------------+------+---------+---+------+----------+--------+----+----+--------------------+-------------------+-------+----------------+\n",
      "| 99|  65756|    Rishabh Pant| 57952|  Mosaddek Hossain|SIX! That has dis...|  null|     null|231|  true|       1.0|    null|33.5|   6|                null|2019-07-02 11:56:04|7,285,6|               c|\n",
      "|273|   3852|    Rohit Sharma| 64151|Mohammad Saifuddin|SIX! Massive hit!...|  null|     null| 44|  true|       1.0|    null| 5.3|   6|                null|2019-07-02 09:54:33|5,219,6|               c|\n",
      "|165|   3852|    Rohit Sharma| 63881| Mustafizur Rahman|SIX! Beautiful, d...|  null|     null|159|  true|       1.0|    null|23.1|   6|                null|2019-07-02 11:09:38|6,268,6|               c|\n",
      "|302|   3852|    Rohit Sharma|  1948|  Mashrafe Mortaza|SIX! There he goe...|  null|     null| 13|  true|       1.0|    null| 0.4|   6|                null|2019-07-02 09:34:09|8,349,6|               c|\n",
      "|332|   1948|Mashrafe Mortaza|  5132| Bhuvneshwar Kumar|IN THE AIR....SIX...|  null|     null|303|  true|       1.0|    null|44.1|   6|                null|2019-07-02 17:11:38|7,278,6|               c|\n",
      "|210|  60122|        KL Rahul|  1948|  Mashrafe Mortaza|SIX! That has bee...|  null|     null|110|  true|       1.0|    null|15.4|   6|                null|2019-07-02 10:36:28|7,309,6|               c|\n",
      "|427|  63206|       Liton Das| 63751|     Hardik Pandya|SIX! That's hamme...|  null|     null|194|  true|       1.0|    null|29.2|   6|                null|2019-07-02 15:55:49|7,283,6|               c|\n",
      "|218|   3852|    Rohit Sharma|  3782|   Shakib Al Hasan|SIX! Shorter boun...|  null|     null|102|  true|       1.0|    null|14.2|   6|                null|2019-07-02 10:31:26|8,341,6|               c|\n",
      "|176|   3852|    Rohit Sharma| 57952|  Mosaddek Hossain|SIX! That is colo...|  null|     null|147|  true|       1.0|    null|21.2|   6|                null|2019-07-02 11:01:14|7,293,6|               c|\n",
      "|256|   3852|    Rohit Sharma| 63881| Mustafizur Rahman|FOUR! Lovely, jus...|    nb|     null| 61|  true|       1.0|    null| 8.2|   5|                null|2019-07-02 10:06:58|5,219,5|               B|\n",
      "|573|  61831|   Soumya Sarkar| 63755|    Jasprit Bumrah|FOUR OVERTHROWS! ...|  null|     null| 34|  true|      null|    null| 5.2|   5|                null|2019-07-02 14:09:33|4,148,2|               B|\n",
      "| 65|  65756|    Rishabh Pant| 64151|Mohammad Saifuddin|FOUR! Two in two ...|  null|     null|271|  true|       1.0|    null|39.3|   4|                null|2019-07-02 12:26:54|8,330,5|               B|\n",
      "|172|   3852|    Rohit Sharma| 57952|  Mosaddek Hossain|FOUR! Rohit seems...|  null|     null|151|  true|       1.0|    null|21.6|   4|{'Score': '139/0'...|2019-07-02 11:02:55|8,325,5|               B|\n",
      "| 66|  65756|    Rishabh Pant| 64151|Mohammad Saifuddin|FOUR! Crisply dri...|  null|     null|270|  true|       1.0|    null|39.2|   4|                null|2019-07-02 12:26:14|5,223,5|               B|\n",
      "| 96|   3993|     Virat Kohli|  4371|     Rubel Hossain|FOUR! Whipped as ...|  null|     null|234|  true|       1.0|    null|34.2|   4|                null|2019-07-02 11:59:03|8,329,5|               B|\n",
      "| 11|   3676|        MS Dhoni| 64151|Mohammad Saifuddin|FOUR! Driven with...|  null|     null|333|  true|       1.0|    null|48.2|   4|                null|2019-07-02 13:08:18|5,216,5|               B|\n",
      "| 64|  65756|    Rishabh Pant| 64151|Mohammad Saifuddin|FOUR! Hat-trick o...|  null|     null|272|  true|       1.0|    null|39.4|   4|                null|2019-07-02 12:27:31|4,151,5|               B|\n",
      "| 37|   3676|        MS Dhoni|  4371|     Rubel Hossain|FOUR! Pulled and ...|  null|     null|303|  true|       1.0|    null|43.6|   4|{'Score': '277/4'...|2019-07-02 12:46:30| 1,16,5|               B|\n",
      "| 79|  65756|    Rishabh Pant| 61831|     Soumya Sarkar|FOUR! WOW! Pant s...|  null|     null|253|  true|       1.0|    null|37.1|   4|                null|2019-07-02 12:12:17| 2,77,5|               B|\n",
      "| 85|   3993|     Virat Kohli|  3782|   Shakib Al Hasan|FOUR! What a shot...|  null|     null|247|  true|       1.0|    null|36.1|   4|                null|2019-07-02 12:07:51|7,311,5|               B|\n",
      "+---+-------+----------------+------+------------------+--------------------+------+---------+---+------+----------+--------+----+----+--------------------+-------------------+-------+----------------+\n",
      "only showing top 20 rows\n",
      "\n"
     ]
    }
   ],
   "source": [
    "data_NewCol_Ordered.show()"
   ]
  },
  {
   "cell_type": "code",
   "execution_count": 19,
   "metadata": {},
   "outputs": [
    {
     "name": "stdout",
     "output_type": "stream",
     "text": [
      "+------------------+----+----------------+\n",
      "|      Batsman_Name|Runs|Runs_Encoded_Col|\n",
      "+------------------+----+----------------+\n",
      "|      Rohit Sharma|   6|               c|\n",
      "|      Rishabh Pant|   6|               c|\n",
      "|      Rohit Sharma|   6|               c|\n",
      "|      Rohit Sharma|   6|               c|\n",
      "|      Rohit Sharma|   6|               c|\n",
      "|      Rohit Sharma|   6|               c|\n",
      "|  Mashrafe Mortaza|   6|               c|\n",
      "|          KL Rahul|   6|               c|\n",
      "|         Liton Das|   6|               c|\n",
      "|      Rohit Sharma|   5|               B|\n",
      "|     Soumya Sarkar|   5|               B|\n",
      "|      Rishabh Pant|   4|               B|\n",
      "|      Rishabh Pant|   4|               B|\n",
      "|       Virat Kohli|   4|               B|\n",
      "|          MS Dhoni|   4|               B|\n",
      "|       Virat Kohli|   4|               B|\n",
      "|      Rohit Sharma|   4|               B|\n",
      "|          MS Dhoni|   4|               B|\n",
      "|          KL Rahul|   4|               B|\n",
      "|      Rishabh Pant|   4|               B|\n",
      "|          KL Rahul|   4|               B|\n",
      "|      Rishabh Pant|   4|               B|\n",
      "|Mohammad Saifuddin|   4|               B|\n",
      "|Mohammad Saifuddin|   4|               B|\n",
      "|     Rubel Hossain|   4|               B|\n",
      "|      Rishabh Pant|   4|               B|\n",
      "|Mohammad Saifuddin|   4|               B|\n",
      "|Mohammad Saifuddin|   4|               B|\n",
      "|Mohammad Saifuddin|   4|               B|\n",
      "|Mohammad Saifuddin|   4|               B|\n",
      "|     Sabbir Rahman|   4|               B|\n",
      "|      Rishabh Pant|   4|               B|\n",
      "|Mohammad Saifuddin|   4|               B|\n",
      "|Mohammad Saifuddin|   4|               B|\n",
      "|Mohammad Saifuddin|   4|               B|\n",
      "|       Virat Kohli|   4|               B|\n",
      "|     Sabbir Rahman|   4|               B|\n",
      "|     Sabbir Rahman|   4|               B|\n",
      "|     Sabbir Rahman|   4|               B|\n",
      "|     Sabbir Rahman|   4|               B|\n",
      "|   Shakib Al Hasan|   4|               B|\n",
      "|      Rohit Sharma|   4|               B|\n",
      "|   Shakib Al Hasan|   4|               B|\n",
      "|   Mushfiqur Rahim|   4|               B|\n",
      "|   Shakib Al Hasan|   4|               B|\n",
      "|    Dinesh Karthik|   4|               B|\n",
      "|   Mushfiqur Rahim|   4|               B|\n",
      "|      Rohit Sharma|   4|               B|\n",
      "|   Mushfiqur Rahim|   4|               B|\n",
      "|   Shakib Al Hasan|   4|               B|\n",
      "|          KL Rahul|   4|               B|\n",
      "|     Soumya Sarkar|   4|               B|\n",
      "|     Soumya Sarkar|   4|               B|\n",
      "|          KL Rahul|   4|               B|\n",
      "|   Shakib Al Hasan|   4|               B|\n",
      "|     Soumya Sarkar|   4|               B|\n",
      "|   Shakib Al Hasan|   4|               B|\n",
      "|          MS Dhoni|   4|               B|\n",
      "|     Soumya Sarkar|   4|               B|\n",
      "|       Tamim Iqbal|   4|               B|\n",
      "|       Tamim Iqbal|   4|               B|\n",
      "|       Tamim Iqbal|   4|               B|\n",
      "|          KL Rahul|   4|               B|\n",
      "|      Rohit Sharma|   4|               B|\n",
      "|      Rohit Sharma|   4|               B|\n",
      "|      Rishabh Pant|   4|               B|\n",
      "|          KL Rahul|   4|               B|\n",
      "|      Rohit Sharma|   4|               B|\n",
      "|          MS Dhoni|   4|               B|\n",
      "|          MS Dhoni|   3|               B|\n",
      "|          KL Rahul|   3|               B|\n",
      "|          KL Rahul|   2|               c|\n",
      "|      Rohit Sharma|   2|               c|\n",
      "|Mohammad Saifuddin|   2|               c|\n",
      "|   Shakib Al Hasan|   2|               c|\n",
      "|       Virat Kohli|   2|               c|\n",
      "|      Rohit Sharma|   2|               c|\n",
      "|      Rohit Sharma|   2|               c|\n",
      "|     Sabbir Rahman|   2|               c|\n",
      "|   Shakib Al Hasan|   2|               c|\n",
      "|   Mushfiqur Rahim|   2|               c|\n",
      "|   Shakib Al Hasan|   2|               c|\n",
      "|         Liton Das|   2|               c|\n",
      "|          MS Dhoni|   2|               c|\n",
      "|       Virat Kohli|   2|               c|\n",
      "|       Virat Kohli|   2|               c|\n",
      "|          KL Rahul|   2|               c|\n",
      "|      Rohit Sharma|   2|               c|\n",
      "|          KL Rahul|   2|               c|\n",
      "|   Shakib Al Hasan|   2|               c|\n",
      "|   Shakib Al Hasan|   2|               c|\n",
      "|         Liton Das|   2|               c|\n",
      "|     Soumya Sarkar|   2|               c|\n",
      "|       Tamim Iqbal|   2|               c|\n",
      "|         Liton Das|   2|               c|\n",
      "|          MS Dhoni|   2|               c|\n",
      "|      Rishabh Pant|   2|               c|\n",
      "|          KL Rahul|   2|               c|\n",
      "|      Rohit Sharma|   2|               c|\n",
      "|   Shakib Al Hasan|   2|               c|\n",
      "|         Liton Das|   2|               c|\n",
      "|       Tamim Iqbal|   2|               c|\n",
      "|       Tamim Iqbal|   2|               c|\n",
      "|      Rishabh Pant|   2|               c|\n",
      "|      Rohit Sharma|   1|               A|\n",
      "|       Virat Kohli|   1|               A|\n",
      "|          KL Rahul|   1|               A|\n",
      "|      Rishabh Pant|   1|               A|\n",
      "|          KL Rahul|   1|               A|\n",
      "|      Rishabh Pant|   1|               A|\n",
      "|       Virat Kohli|   1|               A|\n",
      "|      Rohit Sharma|   1|               A|\n",
      "|          MS Dhoni|   1|               A|\n",
      "|      Rohit Sharma|   1|               A|\n",
      "|      Rishabh Pant|   1|               A|\n",
      "|      Rohit Sharma|   1|               A|\n",
      "|          KL Rahul|   1|               A|\n",
      "|          KL Rahul|   1|               A|\n",
      "|      Rohit Sharma|   1|               A|\n",
      "|          MS Dhoni|   1|               A|\n",
      "|          MS Dhoni|   1|               A|\n",
      "|          KL Rahul|   1|               A|\n",
      "|      Rishabh Pant|   1|               A|\n",
      "|          KL Rahul|   1|               A|\n",
      "|      Rohit Sharma|   1|               A|\n",
      "|      Rohit Sharma|   1|               A|\n",
      "|          KL Rahul|   1|               A|\n",
      "|          KL Rahul|   1|               A|\n",
      "|      Rishabh Pant|   1|               A|\n",
      "|      Rohit Sharma|   1|               A|\n",
      "|          KL Rahul|   1|               A|\n",
      "|       Virat Kohli|   1|               A|\n",
      "|    Dinesh Karthik|   1|               A|\n",
      "|          KL Rahul|   1|               A|\n",
      "|      Rishabh Pant|   1|               A|\n",
      "|          KL Rahul|   1|               A|\n",
      "|          KL Rahul|   1|               A|\n",
      "|      Rohit Sharma|   1|               A|\n",
      "|      Rishabh Pant|   1|               A|\n",
      "|      Rohit Sharma|   1|               A|\n",
      "|      Rohit Sharma|   1|               A|\n",
      "|          KL Rahul|   1|               A|\n",
      "|      Rohit Sharma|   1|               A|\n",
      "|          KL Rahul|   1|               A|\n",
      "|          MS Dhoni|   1|               A|\n",
      "|      Rohit Sharma|   1|               A|\n",
      "|          KL Rahul|   1|               A|\n",
      "|          KL Rahul|   1|               A|\n",
      "|      Rohit Sharma|   1|               A|\n",
      "|      Rohit Sharma|   1|               A|\n",
      "+------------------+----+----------------+\n",
      "only showing top 150 rows\n",
      "\n"
     ]
    }
   ],
   "source": [
    "# View only selected columns\n",
    "subset_data_NewCol = data_NewCol_Ordered.select(\"Batsman_Name\", \"Runs\", \"Runs_Encoded_Col\")\n",
    "\n",
    "# Ordering in descending order\n",
    "subset_data_NewCol_Ordered = subset_data_NewCol.orderBy([\"Runs\"], ascending = False)\n",
    "\n",
    "# Display data\n",
    "subset_data_NewCol_Ordered.show(150)"
   ]
  },
  {
   "cell_type": "code",
   "execution_count": null,
   "metadata": {},
   "outputs": [],
   "source": []
  }
 ],
 "metadata": {
  "kernelspec": {
   "display_name": "Pyspark 2",
   "language": "python",
   "name": "pyspark2"
  },
  "language_info": {
   "codemirror_mode": {
    "name": "ipython",
    "version": 3
   },
   "file_extension": ".py",
   "mimetype": "text/x-python",
   "name": "python",
   "nbconvert_exporter": "python",
   "pygments_lexer": "ipython3",
   "version": "3.6.12"
  }
 },
 "nbformat": 4,
 "nbformat_minor": 4
}
