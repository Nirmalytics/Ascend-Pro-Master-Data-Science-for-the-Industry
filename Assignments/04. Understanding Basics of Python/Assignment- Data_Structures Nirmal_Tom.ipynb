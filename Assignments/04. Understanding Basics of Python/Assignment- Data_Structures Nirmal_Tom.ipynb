{
 "cells": [
  {
   "cell_type": "markdown",
   "metadata": {},
   "source": [
    "# Problem Statement\n",
    "\n",
    "Analytics Vidhya conducted an assessment test to hire a Data Scientist. The\n",
    "candidates were evaluated on 5 different subjects A, B, C, D, and E. The marks of\n",
    "5 different subjects out of 100 are given below. Help Analytics Vidhya to find out\n",
    "the answers of the following questions."
   ]
  },
  {
   "cell_type": "raw",
   "metadata": {},
   "source": [
    "# Questions \n",
    "1. Who scored the highest marks in the subject B?\n",
    "2. What is the average marks scored in the subject C?\n",
    "3. Who scored the highest percentage of marks?\n",
    "4. If considered only top-4 subjects of a candidate, then who scored the highest\n",
    "percentage of marks"
   ]
  },
  {
   "cell_type": "code",
   "execution_count": 1,
   "metadata": {},
   "outputs": [],
   "source": [
    "# student marks\n",
    "student_marks=[[\"Name\",    [\"A\",\"B\",\"C\",\"D\",\"E\"]],\n",
    "               [\"Ankit\",   [41,34,45,55,63]],\n",
    "               [\"Aravind\", [42,23,34,44,53]],\n",
    "               [\"Lakshay\", [32,23,13,54,67]],\n",
    "               [\"Gyan\",    [23,82,23,63,34]],\n",
    "               [\"Pranav\",  [21,23,25,56,56]]\n",
    "              ]"
   ]
  },
  {
   "cell_type": "markdown",
   "metadata": {},
   "source": [
    "# Q1. Who scored the highest marks in the subject B?"
   ]
  },
  {
   "cell_type": "markdown",
   "metadata": {},
   "source": [
    "#exploration"
   ]
  },
  {
   "cell_type": "code",
   "execution_count": 2,
   "metadata": {},
   "outputs": [
    {
     "data": {
      "text/plain": [
       "['Name', ['A', 'B', 'C', 'D', 'E']]"
      ]
     },
     "execution_count": 2,
     "metadata": {},
     "output_type": "execute_result"
    }
   ],
   "source": [
    "student_marks[0]"
   ]
  },
  {
   "cell_type": "code",
   "execution_count": 3,
   "metadata": {},
   "outputs": [
    {
     "data": {
      "text/plain": [
       "['Ankit', [41, 34, 45, 55, 63]]"
      ]
     },
     "execution_count": 3,
     "metadata": {},
     "output_type": "execute_result"
    }
   ],
   "source": [
    "student_marks[1]"
   ]
  },
  {
   "cell_type": "code",
   "execution_count": 4,
   "metadata": {},
   "outputs": [
    {
     "data": {
      "text/plain": [
       "['Aravind', [42, 23, 34, 44, 53]]"
      ]
     },
     "execution_count": 4,
     "metadata": {},
     "output_type": "execute_result"
    }
   ],
   "source": [
    "student_marks[2]"
   ]
  },
  {
   "cell_type": "markdown",
   "metadata": {},
   "source": [
    "# steps\n",
    "1. Slicing should happen from student_marks[1], since student_marks[0] contains only headers.\n",
    "2. extract Name index and Mark index position\n",
    "3. Create a List of Name with associated marks list\n",
    "4. Sort it with marks\n",
    "5. find the highest marks and the corresponding Name. "
   ]
  },
  {
   "cell_type": "code",
   "execution_count": 5,
   "metadata": {},
   "outputs": [],
   "source": [
    "#student_marks[1][0] gives Name\n",
    "#student_marks[1][1] gives Mark list\n",
    "#student_marks[1][1][1] gives Subject B Mark\n"
   ]
  },
  {
   "cell_type": "code",
   "execution_count": 6,
   "metadata": {},
   "outputs": [],
   "source": [
    "studentMarksB=[]\n",
    "for std in student_marks[1:]:\n",
    "    Name=std[0]\n",
    "    MarksB=std[1][1]\n",
    "    studentMarksB.append([MarksB,Name])"
   ]
  },
  {
   "cell_type": "code",
   "execution_count": 7,
   "metadata": {},
   "outputs": [
    {
     "data": {
      "text/plain": [
       "[[34, 'Ankit'], [23, 'Aravind'], [23, 'Lakshay'], [82, 'Gyan'], [23, 'Pranav']]"
      ]
     },
     "execution_count": 7,
     "metadata": {},
     "output_type": "execute_result"
    }
   ],
   "source": [
    "studentMarksB # List of List with Name with associated marks"
   ]
  },
  {
   "cell_type": "code",
   "execution_count": 8,
   "metadata": {},
   "outputs": [
    {
     "data": {
      "text/plain": [
       "[[23, 'Aravind'], [23, 'Lakshay'], [23, 'Pranav'], [34, 'Ankit'], [82, 'Gyan']]"
      ]
     },
     "execution_count": 8,
     "metadata": {},
     "output_type": "execute_result"
    }
   ],
   "source": [
    "sorted(studentMarksB) #Sort marks"
   ]
  },
  {
   "cell_type": "code",
   "execution_count": 9,
   "metadata": {},
   "outputs": [
    {
     "data": {
      "text/plain": [
       "'Gyan'"
      ]
     },
     "execution_count": 9,
     "metadata": {},
     "output_type": "execute_result"
    }
   ],
   "source": [
    "sorted(studentMarksB, reverse=True)[0][1] #Highest Mark"
   ]
  },
  {
   "cell_type": "markdown",
   "metadata": {},
   "source": [
    "\n",
    "# Q2. What is the average marks scored in the subject C?"
   ]
  },
  {
   "cell_type": "markdown",
   "metadata": {},
   "source": [
    "# steps\n",
    "1. Slicing should happen from student_marks[1], since student_marks[0] contains only headers.\n",
    "2. extract Subject C Mark index position\n",
    "3. Create a List of Subject C marks\n",
    "4. Count the Number of Students\n",
    "5. Total Sum of Marks of all students\n",
    "6. Average = Sum / Count"
   ]
  },
  {
   "cell_type": "code",
   "execution_count": 10,
   "metadata": {},
   "outputs": [
    {
     "data": {
      "text/plain": [
       "[['Name', ['A', 'B', 'C', 'D', 'E']],\n",
       " ['Ankit', [41, 34, 45, 55, 63]],\n",
       " ['Aravind', [42, 23, 34, 44, 53]],\n",
       " ['Lakshay', [32, 23, 13, 54, 67]],\n",
       " ['Gyan', [23, 82, 23, 63, 34]],\n",
       " ['Pranav', [21, 23, 25, 56, 56]]]"
      ]
     },
     "execution_count": 10,
     "metadata": {},
     "output_type": "execute_result"
    }
   ],
   "source": [
    "student_marks"
   ]
  },
  {
   "cell_type": "code",
   "execution_count": 11,
   "metadata": {},
   "outputs": [],
   "source": [
    "#student_marks[1][0] gives Name\n",
    "#student_marks[1][1] gives Mark list\n",
    "#student_marks[1][1][2] gives Subject C Mark\n",
    "\n"
   ]
  },
  {
   "cell_type": "code",
   "execution_count": 12,
   "metadata": {},
   "outputs": [],
   "source": [
    "studentMarksC=[]\n",
    "for std in student_marks[1:]:\n",
    "    marksC=std[1][2]\n",
    "    studentMarksC.append(marksC)"
   ]
  },
  {
   "cell_type": "code",
   "execution_count": 13,
   "metadata": {},
   "outputs": [
    {
     "data": {
      "text/plain": [
       "[45, 34, 13, 23, 25]"
      ]
     },
     "execution_count": 13,
     "metadata": {},
     "output_type": "execute_result"
    }
   ],
   "source": [
    "studentMarksC #List of Subject C marks"
   ]
  },
  {
   "cell_type": "code",
   "execution_count": 14,
   "metadata": {},
   "outputs": [
    {
     "name": "stdout",
     "output_type": "stream",
     "text": [
      "count=  5\n"
     ]
    }
   ],
   "source": [
    "count= len(studentMarksC)\n",
    "print(\"count= \", count) #number of students"
   ]
  },
  {
   "cell_type": "code",
   "execution_count": 15,
   "metadata": {},
   "outputs": [
    {
     "name": "stdout",
     "output_type": "stream",
     "text": [
      "Sum = 140\n"
     ]
    }
   ],
   "source": [
    "sumMarkC=0\n",
    "for i in studentMarksC:\n",
    "    sumMarkC=sumMarkC+i\n",
    "print(\"Sum =\", sumMarkC) #Sum of Marks of all students in subject C"
   ]
  },
  {
   "cell_type": "code",
   "execution_count": 16,
   "metadata": {},
   "outputs": [
    {
     "name": "stdout",
     "output_type": "stream",
     "text": [
      "Average = 28.0\n"
     ]
    }
   ],
   "source": [
    "Average=sumMarkC/count\n",
    "print(\"Average =\",Average)"
   ]
  },
  {
   "cell_type": "markdown",
   "metadata": {},
   "source": [
    "# Q3. Who scored the highest percentage of marks?"
   ]
  },
  {
   "cell_type": "markdown",
   "metadata": {},
   "source": [
    "# steps\n",
    "1. Slicing should happen from student_marks[1], since student_marks[0] contains only headers.\n",
    "2. extract Name and Marks index position\n",
    "3. Create a List of Name and all Subject marks list\n",
    "4. Count the Number of subjects\n",
    "5. List of Total Sum of Marks for each Name\n",
    "6. Find Percentage\n",
    "7. Sort "
   ]
  },
  {
   "cell_type": "code",
   "execution_count": 17,
   "metadata": {},
   "outputs": [
    {
     "data": {
      "text/plain": [
       "[['Name', ['A', 'B', 'C', 'D', 'E']],\n",
       " ['Ankit', [41, 34, 45, 55, 63]],\n",
       " ['Aravind', [42, 23, 34, 44, 53]],\n",
       " ['Lakshay', [32, 23, 13, 54, 67]],\n",
       " ['Gyan', [23, 82, 23, 63, 34]],\n",
       " ['Pranav', [21, 23, 25, 56, 56]]]"
      ]
     },
     "execution_count": 17,
     "metadata": {},
     "output_type": "execute_result"
    }
   ],
   "source": [
    "student_marks"
   ]
  },
  {
   "cell_type": "code",
   "execution_count": 18,
   "metadata": {},
   "outputs": [],
   "source": [
    "#student_marks[1][0] gives Name\n",
    "#student_marks[1][1] gives Mark list\n"
   ]
  },
  {
   "cell_type": "code",
   "execution_count": 19,
   "metadata": {},
   "outputs": [],
   "source": [
    "studentMarksList=[]\n",
    "for std in student_marks[1:]:\n",
    "    Name=std[0]\n",
    "    MarkList=std[1]\n",
    "    studentMarksList.append([Name,MarkList])"
   ]
  },
  {
   "cell_type": "code",
   "execution_count": 20,
   "metadata": {},
   "outputs": [
    {
     "data": {
      "text/plain": [
       "[['Ankit', [41, 34, 45, 55, 63]],\n",
       " ['Aravind', [42, 23, 34, 44, 53]],\n",
       " ['Lakshay', [32, 23, 13, 54, 67]],\n",
       " ['Gyan', [23, 82, 23, 63, 34]],\n",
       " ['Pranav', [21, 23, 25, 56, 56]]]"
      ]
     },
     "execution_count": 20,
     "metadata": {},
     "output_type": "execute_result"
    }
   ],
   "source": [
    "studentMarksList[:] #List of Name and all Subject marks list"
   ]
  },
  {
   "cell_type": "code",
   "execution_count": 21,
   "metadata": {},
   "outputs": [
    {
     "data": {
      "text/plain": [
       "[41, 34, 45, 55, 63]"
      ]
     },
     "execution_count": 21,
     "metadata": {},
     "output_type": "execute_result"
    }
   ],
   "source": [
    "studentMarksList[0][1]"
   ]
  },
  {
   "cell_type": "code",
   "execution_count": 22,
   "metadata": {},
   "outputs": [
    {
     "name": "stdout",
     "output_type": "stream",
     "text": [
      "count=  5\n"
     ]
    }
   ],
   "source": [
    "countsubj= len(studentMarksList[0][1])\n",
    "print(\"count= \", countsubj) #count of Subjects"
   ]
  },
  {
   "cell_type": "code",
   "execution_count": 23,
   "metadata": {},
   "outputs": [],
   "source": [
    "total=0\n",
    "studentTotalmarksList=[] \n",
    "\n",
    "for i in studentMarksList:\n",
    "    name=i[0]\n",
    "    for j in i[1]:\n",
    "        total= total+j\n",
    "    studentTotalmarksList.append([total,name])\n",
    "    total=0\n"
   ]
  },
  {
   "cell_type": "code",
   "execution_count": 24,
   "metadata": {},
   "outputs": [
    {
     "data": {
      "text/plain": [
       "[[238, 'Ankit'],\n",
       " [196, 'Aravind'],\n",
       " [189, 'Lakshay'],\n",
       " [225, 'Gyan'],\n",
       " [181, 'Pranav']]"
      ]
     },
     "execution_count": 24,
     "metadata": {},
     "output_type": "execute_result"
    }
   ],
   "source": [
    "studentTotalmarksList[:] # list of total marks with name"
   ]
  },
  {
   "cell_type": "code",
   "execution_count": 25,
   "metadata": {},
   "outputs": [],
   "source": [
    "TotalSum=500 #total sum of marks\n",
    "finalList=[]\n",
    "for i in studentTotalmarksList[:]:\n",
    "    finalList.append([((i[0]/TotalSum)*100),i[1]]) #percentage"
   ]
  },
  {
   "cell_type": "code",
   "execution_count": 26,
   "metadata": {},
   "outputs": [
    {
     "data": {
      "text/plain": [
       "[[47.599999999999994, 'Ankit'],\n",
       " [39.2, 'Aravind'],\n",
       " [37.8, 'Lakshay'],\n",
       " [45.0, 'Gyan'],\n",
       " [36.199999999999996, 'Pranav']]"
      ]
     },
     "execution_count": 26,
     "metadata": {},
     "output_type": "execute_result"
    }
   ],
   "source": [
    "finalList #percentage of Marks for each student"
   ]
  },
  {
   "cell_type": "code",
   "execution_count": 27,
   "metadata": {},
   "outputs": [
    {
     "data": {
      "text/plain": [
       "'Ankit'"
      ]
     },
     "execution_count": 27,
     "metadata": {},
     "output_type": "execute_result"
    }
   ],
   "source": [
    "sorted(finalList, reverse=True)[0][1]"
   ]
  },
  {
   "cell_type": "markdown",
   "metadata": {},
   "source": [
    "# Q4. If considered only top-4 subjects of a candidate, then who scored the highest percentage of marks"
   ]
  },
  {
   "cell_type": "markdown",
   "metadata": {},
   "source": [
    "# steps\n",
    "\n",
    "1. Slicing should happen from student_marks[1], since student_marks[0] contains only headers.\n",
    "2. Create a List of Name and all Subject marks list\n",
    "3. sort marks in descending order and remove last subject\n",
    "4. Count the Number of subjects\n",
    "5. List of Total Sum of Marks for each Name\n",
    "6. Find Percentage\n",
    "7. Sort"
   ]
  },
  {
   "cell_type": "code",
   "execution_count": 28,
   "metadata": {
    "scrolled": true
   },
   "outputs": [
    {
     "data": {
      "text/plain": [
       "[['Name', ['A', 'B', 'C', 'D', 'E']],\n",
       " ['Ankit', [41, 34, 45, 55, 63]],\n",
       " ['Aravind', [42, 23, 34, 44, 53]],\n",
       " ['Lakshay', [32, 23, 13, 54, 67]],\n",
       " ['Gyan', [23, 82, 23, 63, 34]],\n",
       " ['Pranav', [21, 23, 25, 56, 56]]]"
      ]
     },
     "execution_count": 28,
     "metadata": {},
     "output_type": "execute_result"
    }
   ],
   "source": [
    "student_marks"
   ]
  },
  {
   "cell_type": "code",
   "execution_count": 29,
   "metadata": {},
   "outputs": [],
   "source": [
    "studentMarksList=[]\n",
    "for std in student_marks[1:]:\n",
    "    Name=std[0]\n",
    "    MarkList=std[1]\n",
    "    studentMarksList.append([Name,MarkList])"
   ]
  },
  {
   "cell_type": "code",
   "execution_count": 30,
   "metadata": {},
   "outputs": [
    {
     "data": {
      "text/plain": [
       "[['Ankit', [41, 34, 45, 55, 63]],\n",
       " ['Aravind', [42, 23, 34, 44, 53]],\n",
       " ['Lakshay', [32, 23, 13, 54, 67]],\n",
       " ['Gyan', [23, 82, 23, 63, 34]],\n",
       " ['Pranav', [21, 23, 25, 56, 56]]]"
      ]
     },
     "execution_count": 30,
     "metadata": {},
     "output_type": "execute_result"
    }
   ],
   "source": [
    "studentMarksList[:] #List of Name and all Subject marks list"
   ]
  },
  {
   "cell_type": "code",
   "execution_count": 31,
   "metadata": {},
   "outputs": [],
   "source": [
    "studentSortMarksList=[]\n",
    "for i in studentMarksList[:]:\n",
    "    Name=i[0]\n",
    "    Marks=i[1]\n",
    "    studentSortMarksList.append([sorted(Marks, reverse=True),Name])"
   ]
  },
  {
   "cell_type": "code",
   "execution_count": 32,
   "metadata": {},
   "outputs": [
    {
     "data": {
      "text/plain": [
       "[[[63, 55, 45, 41, 34], 'Ankit'],\n",
       " [[53, 44, 42, 34, 23], 'Aravind'],\n",
       " [[67, 54, 32, 23, 13], 'Lakshay'],\n",
       " [[82, 63, 34, 23, 23], 'Gyan'],\n",
       " [[56, 56, 25, 23, 21], 'Pranav']]"
      ]
     },
     "execution_count": 32,
     "metadata": {},
     "output_type": "execute_result"
    }
   ],
   "source": [
    "studentSortMarksList"
   ]
  },
  {
   "cell_type": "code",
   "execution_count": 33,
   "metadata": {},
   "outputs": [],
   "source": [
    "newlist=[]\n",
    "for i in studentSortMarksList[:]:\n",
    "    del i[0][-1]"
   ]
  },
  {
   "cell_type": "code",
   "execution_count": 34,
   "metadata": {},
   "outputs": [
    {
     "data": {
      "text/plain": [
       "[[[63, 55, 45, 41], 'Ankit'],\n",
       " [[53, 44, 42, 34], 'Aravind'],\n",
       " [[67, 54, 32, 23], 'Lakshay'],\n",
       " [[82, 63, 34, 23], 'Gyan'],\n",
       " [[56, 56, 25, 23], 'Pranav']]"
      ]
     },
     "execution_count": 34,
     "metadata": {},
     "output_type": "execute_result"
    }
   ],
   "source": [
    "studentSortMarksList #top-4 subjects of each student"
   ]
  },
  {
   "cell_type": "code",
   "execution_count": 35,
   "metadata": {},
   "outputs": [
    {
     "name": "stdout",
     "output_type": "stream",
     "text": [
      "count=  4\n"
     ]
    }
   ],
   "source": [
    "countsubj= len(studentSortMarksList[0][0])\n",
    "print(\"count= \", countsubj) #count of Subjects"
   ]
  },
  {
   "cell_type": "code",
   "execution_count": 36,
   "metadata": {},
   "outputs": [],
   "source": [
    "#sum of Top-4 subjects\n",
    "\n",
    "total=0\n",
    "studentTotalmarksList=[]\n",
    "\n",
    "\n",
    "for mlist in studentSortMarksList[:]:\n",
    "    name=mlist[1]\n",
    "    for j in mlist[0]:\n",
    "        total= total+j\n",
    "    studentTotalmarksList.append([total,name])\n",
    "    total=0"
   ]
  },
  {
   "cell_type": "code",
   "execution_count": 37,
   "metadata": {},
   "outputs": [
    {
     "data": {
      "text/plain": [
       "[[204, 'Ankit'],\n",
       " [173, 'Aravind'],\n",
       " [176, 'Lakshay'],\n",
       " [202, 'Gyan'],\n",
       " [160, 'Pranav']]"
      ]
     },
     "execution_count": 37,
     "metadata": {},
     "output_type": "execute_result"
    }
   ],
   "source": [
    "studentTotalmarksList"
   ]
  },
  {
   "cell_type": "code",
   "execution_count": 38,
   "metadata": {},
   "outputs": [],
   "source": [
    "TotalSum=400 #total sum of marks\n",
    "finalList=[]\n",
    "for i in studentTotalmarksList[:]:\n",
    "    finalList.append([((i[0]/TotalSum)*100),i[1]]) #percentage"
   ]
  },
  {
   "cell_type": "code",
   "execution_count": 39,
   "metadata": {},
   "outputs": [
    {
     "data": {
      "text/plain": [
       "[[51.0, 'Ankit'],\n",
       " [43.25, 'Aravind'],\n",
       " [44.0, 'Lakshay'],\n",
       " [50.5, 'Gyan'],\n",
       " [40.0, 'Pranav']]"
      ]
     },
     "execution_count": 39,
     "metadata": {},
     "output_type": "execute_result"
    }
   ],
   "source": [
    "finalList #percentage of Top-4 Marks for each student"
   ]
  },
  {
   "cell_type": "code",
   "execution_count": 40,
   "metadata": {},
   "outputs": [
    {
     "data": {
      "text/plain": [
       "'Ankit'"
      ]
     },
     "execution_count": 40,
     "metadata": {},
     "output_type": "execute_result"
    }
   ],
   "source": [
    "sorted(finalList, reverse=True)[0][1]"
   ]
  },
  {
   "cell_type": "markdown",
   "metadata": {},
   "source": [
    "# Answers \n",
    "1. Gyan scored the highest marks in the subject B\n",
    "2. The average marks scored in the subject C= 28.0\n",
    "3. Ankit scored the highest percentage of marks.\n",
    "4. Ankit scored the highest percentage of marks in top-4 subjects of a candidate"
   ]
  }
 ],
 "metadata": {
  "kernelspec": {
   "display_name": "Python 3",
   "language": "python",
   "name": "python3"
  },
  "language_info": {
   "codemirror_mode": {
    "name": "ipython",
    "version": 3
   },
   "file_extension": ".py",
   "mimetype": "text/x-python",
   "name": "python",
   "nbconvert_exporter": "python",
   "pygments_lexer": "ipython3",
   "version": "3.8.5"
  }
 },
 "nbformat": 4,
 "nbformat_minor": 4
}
