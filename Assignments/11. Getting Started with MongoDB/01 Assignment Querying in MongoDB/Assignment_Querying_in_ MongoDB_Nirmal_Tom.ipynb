{
 "cells": [
  {
   "cell_type": "markdown",
   "metadata": {},
   "source": [
    "### Problem statement\n",
    "\n",
    "The data is related to a coding platform that hosts coding challenges. They have a unique business model, where they crowdsource problems from various creators(authors). These authors create the problem and release it on the client's platform. The users then select the challenges they want to solve. \n",
    "\n",
    "This dataset contains information about each coding problem. It contains information about the problem, about the author who created it and a list of users who have attempted the problem.\n",
    "\n",
    "Below are the fields that can be founf within each document in the collection -\n",
    "\n",
    "- `challenge_id` - Unique id of the challenge problem\n",
    "\n",
    "- `programming_language` - Programming language for the challenge\n",
    "\n",
    "- `total_submissions` - Total submissions by all users\n",
    "\n",
    "- `publish_date` - Publishing date for the challenge\n",
    "\n",
    "- `author` - Embedded document about the author of the challenge.\n",
    "> - `id` - Author id\n",
    "> - `gender` - Author gender\n",
    "> - `org_id` - Organisation if for author\n",
    "\n",
    "- `users` - List of users who have attempted the challenge\n",
    "\n",
    "----"
   ]
  },
  {
   "cell_type": "markdown",
   "metadata": {},
   "source": [
    "### Connecting to MongoDB\n",
    "\n",
    "\n",
    "----"
   ]
  },
  {
   "cell_type": "code",
   "execution_count": 1,
   "metadata": {},
   "outputs": [],
   "source": [
    "# Importing the required libraries\n",
    "import pymongo\n",
    "import pprint as pp\n",
    "\n",
    "\n",
    "pp.sorted = lambda x, key=None: x"
   ]
  },
  {
   "cell_type": "code",
   "execution_count": 2,
   "metadata": {},
   "outputs": [],
   "source": [
    "client = pymongo.MongoClient(\"mongodb://localhost:27017/\")"
   ]
  },
  {
   "cell_type": "markdown",
   "metadata": {},
   "source": [
    "---\n",
    "### Importing data\n",
    "\n",
    "----"
   ]
  },
  {
   "cell_type": "code",
   "execution_count": 3,
   "metadata": {},
   "outputs": [],
   "source": [
    "db = client.Avidhya"
   ]
  },
  {
   "cell_type": "code",
   "execution_count": 4,
   "metadata": {},
   "outputs": [
    {
     "data": {
      "text/plain": [
       "['Assignment']"
      ]
     },
     "execution_count": 4,
     "metadata": {},
     "output_type": "execute_result"
    }
   ],
   "source": [
    "db.list_collection_names()"
   ]
  },
  {
   "cell_type": "code",
   "execution_count": 5,
   "metadata": {
    "scrolled": true
   },
   "outputs": [
    {
     "name": "stdout",
     "output_type": "stream",
     "text": [
      "{'_id': ObjectId('60dab9f75945974466d8d64d'),\n",
      " 'challenge_id': 'CI23478',\n",
      " 'programming_language': 2,\n",
      " 'total_submissions': 37,\n",
      " 'publish_date': datetime.datetime(2006, 6, 5, 0, 0),\n",
      " 'author': {'id': 'AI563576', 'gender': 'M', 'org_id': 'AOI100001'},\n",
      " 'users': [32876, 88820, 97150, 97359]}\n"
     ]
    }
   ],
   "source": [
    "pp.pprint(\n",
    "    db.Assignment.find_one()\n",
    ")"
   ]
  },
  {
   "cell_type": "markdown",
   "metadata": {},
   "source": [
    "---\n",
    "### Assignment Questions\n",
    "\n",
    "----"
   ]
  },
  {
   "cell_type": "markdown",
   "metadata": {},
   "source": [
    "### Q1. \n",
    "\n",
    "Find the number of documents in the collection"
   ]
  },
  {
   "cell_type": "code",
   "execution_count": 6,
   "metadata": {},
   "outputs": [
    {
     "name": "stderr",
     "output_type": "stream",
     "text": [
      "<ipython-input-6-dc74df15b62e>:2: DeprecationWarning: count is deprecated. Use Collection.count_documents instead.\n",
      "  db.Assignment.find().count()\n"
     ]
    },
    {
     "data": {
      "text/plain": [
       "5606"
      ]
     },
     "execution_count": 6,
     "metadata": {},
     "output_type": "execute_result"
    }
   ],
   "source": [
    "# number of documents in the collection\n",
    "db.Assignment.find().count()"
   ]
  },
  {
   "cell_type": "markdown",
   "metadata": {},
   "source": [
    "### Q2. \n",
    "\n",
    "Find the number of unique `programming_language` and `challenge_id`"
   ]
  },
  {
   "cell_type": "code",
   "execution_count": 7,
   "metadata": {},
   "outputs": [
    {
     "data": {
      "text/plain": [
       "3"
      ]
     },
     "execution_count": 7,
     "metadata": {},
     "output_type": "execute_result"
    }
   ],
   "source": [
    "# Unique values in programming_language\n",
    "len(db.Assignment.distinct('programming_language'))"
   ]
  },
  {
   "cell_type": "code",
   "execution_count": 8,
   "metadata": {},
   "outputs": [
    {
     "data": {
      "text/plain": [
       "5606"
      ]
     },
     "execution_count": 8,
     "metadata": {},
     "output_type": "execute_result"
    }
   ],
   "source": [
    "# Unique values in challenge_id\n",
    "len(db.Assignment.distinct('challenge_id'))"
   ]
  },
  {
   "cell_type": "markdown",
   "metadata": {},
   "source": [
    "### Q3. \n",
    "\n",
    "How many documents are there where the challenge was created between `2009-01-01` and `2010-01-01`? "
   ]
  },
  {
   "cell_type": "code",
   "execution_count": 9,
   "metadata": {},
   "outputs": [],
   "source": [
    "# Import datetime library\n",
    "from datetime import datetime"
   ]
  },
  {
   "cell_type": "code",
   "execution_count": 10,
   "metadata": {},
   "outputs": [
    {
     "name": "stderr",
     "output_type": "stream",
     "text": [
      "<ipython-input-10-df760c827b3e>:1: DeprecationWarning: count is deprecated. Use Collection.count_documents instead.\n",
      "  db.Assignment.find(\n"
     ]
    },
    {
     "data": {
      "text/plain": [
       "888"
      ]
     },
     "execution_count": 10,
     "metadata": {},
     "output_type": "execute_result"
    }
   ],
   "source": [
    "db.Assignment.find(\n",
    "                    {\n",
    "                    'publish_date':{\n",
    "                                    '$gte': datetime(2009, 1, 1),\n",
    "                                    '$lte': datetime(2010, 1, 1)\n",
    "                                    }\n",
    "                    }\n",
    "                  ).count()"
   ]
  },
  {
   "cell_type": "markdown",
   "metadata": {},
   "source": [
    "### Q4. \n",
    "\n",
    "How many challenges have been written by author `AI563576` in either `programming_language` `1` or `3` ?\n"
   ]
  },
  {
   "cell_type": "code",
   "execution_count": 11,
   "metadata": {},
   "outputs": [
    {
     "name": "stderr",
     "output_type": "stream",
     "text": [
      "<ipython-input-11-93053a64c56e>:1: DeprecationWarning: count is deprecated. Use Collection.count_documents instead.\n",
      "  db.Assignment.find(\n"
     ]
    },
    {
     "data": {
      "text/plain": [
       "41"
      ]
     },
     "execution_count": 11,
     "metadata": {},
     "output_type": "execute_result"
    }
   ],
   "source": [
    "db.Assignment.find(\n",
    "                   {'author.id':'AI563576',\n",
    "                    'programming_language':{\"$in\":[1,3]}\n",
    "                    }\n",
    "                  ).count()"
   ]
  },
  {
   "cell_type": "markdown",
   "metadata": {},
   "source": [
    "### Q5. \n",
    "\n",
    "How many documents are there where the challenges have been created by a female author and where the author belong to either the 'AOI100013' organisation or the 'AOI100013' organisation?"
   ]
  },
  {
   "cell_type": "code",
   "execution_count": 12,
   "metadata": {},
   "outputs": [
    {
     "name": "stderr",
     "output_type": "stream",
     "text": [
      "<ipython-input-12-10d8eb8f52a7>:1: DeprecationWarning: count is deprecated. Use Collection.count_documents instead.\n",
      "  db.Assignment.find(\n"
     ]
    },
    {
     "data": {
      "text/plain": [
       "5"
      ]
     },
     "execution_count": 12,
     "metadata": {},
     "output_type": "execute_result"
    }
   ],
   "source": [
    "db.Assignment.find(\n",
    "                    {\n",
    "                     'author.gender':'F',\n",
    "                     'author.org_id':{\"$in\":['AOI100013','AOI100013']\n",
    "                                     }\n",
    "                    }\n",
    "                ).count()"
   ]
  },
  {
   "cell_type": "markdown",
   "metadata": {},
   "source": [
    "### Q6.\n",
    "\n",
    "Find the top 5 challenges where either the challenge has been attempted by exactly 100 `users` or where the `total_submissions` is between 100 and 200, both inclusive?"
   ]
  },
  {
   "cell_type": "code",
   "execution_count": 13,
   "metadata": {},
   "outputs": [
    {
     "name": "stdout",
     "output_type": "stream",
     "text": [
      "{'challenge_id': 'CI23482'}\n",
      "{'challenge_id': 'CI23494'}\n",
      "{'challenge_id': 'CI23497'}\n",
      "{'challenge_id': 'CI23500'}\n",
      "{'challenge_id': 'CI23516'}\n"
     ]
    }
   ],
   "source": [
    "cur = db.Assignment.find(\n",
    "                        # Query\n",
    "                        {\n",
    "                          '$or':[\n",
    "                                  {'users':{'$size':100}},\n",
    "                                  {'total_submissions':{ '$gte': 100,'$lte': 200 }}\n",
    "                                ]\n",
    "                          },\n",
    "                          # challenge_id Projection\n",
    "                        {'challenge_id': 1,\n",
    "                            '_id': 0\n",
    "                        }\n",
    "                        ).sort([('challenge_id', pymongo.ASCENDING)]).limit(5)\n",
    "# Print all documents\n",
    "for doc in cur:\n",
    "    pp.pprint(doc)"
   ]
  },
  {
   "cell_type": "markdown",
   "metadata": {},
   "source": [
    "### Q7. \n",
    "\n",
    "How documents are there where either the `publish_date > 2010-01-01` and `total_submissions > 100`, or the `publish_date < 2000-01-01` and `total_submissions > 1000` ?"
   ]
  },
  {
   "cell_type": "code",
   "execution_count": 14,
   "metadata": {},
   "outputs": [
    {
     "name": "stderr",
     "output_type": "stream",
     "text": [
      "<ipython-input-14-faba036101e3>:1: DeprecationWarning: count is deprecated. Use Collection.count_documents instead.\n",
      "  db.Assignment.find({\n"
     ]
    },
    {
     "data": {
      "text/plain": [
       "45"
      ]
     },
     "execution_count": 14,
     "metadata": {},
     "output_type": "execute_result"
    }
   ],
   "source": [
    "db.Assignment.find({\n",
    "                   '$or':[\n",
    "                          {'$and':[\n",
    "                                   {'publish_date':{'$gt':datetime(2010, 1, 1)}},\n",
    "                                   {'total_submissions':{'$gt':100}}\n",
    "                                  ]\n",
    "                          },\n",
    "                          {'$and':[\n",
    "                                  {'publish_date':{'$lt':datetime(2000, 1, 1)}},\n",
    "                                  {'total_submissions':{'$gt':1000}}\n",
    "                                 ]\n",
    "                          }\n",
    "                         ]\n",
    "                    }).count()"
   ]
  }
 ],
 "metadata": {
  "kernelspec": {
   "display_name": "Python 3",
   "language": "python",
   "name": "python3"
  },
  "language_info": {
   "codemirror_mode": {
    "name": "ipython",
    "version": 3
   },
   "file_extension": ".py",
   "mimetype": "text/x-python",
   "name": "python",
   "nbconvert_exporter": "python",
   "pygments_lexer": "ipython3",
   "version": "3.8.5"
  }
 },
 "nbformat": 4,
 "nbformat_minor": 5
}
